{
 "cells": [
  {
   "cell_type": "code",
   "execution_count": 1,
   "metadata": {
    "collapsed": true
   },
   "outputs": [],
   "source": [
    "import pandas as pd"
   ]
  },
  {
   "cell_type": "code",
   "execution_count": 2,
   "metadata": {},
   "outputs": [
    {
     "name": "stdout",
     "output_type": "stream",
     "text": [
      "Untitled.ipynb                  climate_change_upto_2000_1.csv\r\n"
     ]
    }
   ],
   "source": [
    "ls"
   ]
  },
  {
   "cell_type": "code",
   "execution_count": 3,
   "metadata": {
    "collapsed": true
   },
   "outputs": [],
   "source": [
    "filename = \"climate_change_upto_2000_1.csv\""
   ]
  },
  {
   "cell_type": "code",
   "execution_count": 4,
   "metadata": {},
   "outputs": [
    {
     "name": "stdout",
     "output_type": "stream",
     "text": [
      "Done\n"
     ]
    }
   ],
   "source": [
    "df = pd.read_csv(filename)\n",
    "print(\"Done\")"
   ]
  },
  {
   "cell_type": "code",
   "execution_count": 5,
   "metadata": {},
   "outputs": [
    {
     "data": {
      "text/html": [
       "<div>\n",
       "<style>\n",
       "    .dataframe thead tr:only-child th {\n",
       "        text-align: right;\n",
       "    }\n",
       "\n",
       "    .dataframe thead th {\n",
       "        text-align: left;\n",
       "    }\n",
       "\n",
       "    .dataframe tbody tr th {\n",
       "        vertical-align: top;\n",
       "    }\n",
       "</style>\n",
       "<table border=\"1\" class=\"dataframe\">\n",
       "  <thead>\n",
       "    <tr style=\"text-align: right;\">\n",
       "      <th></th>\n",
       "      <th>Station Name</th>\n",
       "      <th>Month</th>\n",
       "      <th>Period</th>\n",
       "      <th>No. of Years</th>\n",
       "      <th>Mean Temperature in degree C - Maximum</th>\n",
       "      <th>Mean Temperature  in degree C - Minimum</th>\n",
       "      <th>Mean Rainfall in mm</th>\n",
       "    </tr>\n",
       "  </thead>\n",
       "  <tbody>\n",
       "    <tr>\n",
       "      <th>0</th>\n",
       "      <td>Abu</td>\n",
       "      <td>January</td>\n",
       "      <td>1901-2000</td>\n",
       "      <td>100</td>\n",
       "      <td>19.3</td>\n",
       "      <td>8.0</td>\n",
       "      <td>5.3</td>\n",
       "    </tr>\n",
       "    <tr>\n",
       "      <th>1</th>\n",
       "      <td>Abu</td>\n",
       "      <td>February</td>\n",
       "      <td>1901-2000</td>\n",
       "      <td>100</td>\n",
       "      <td>21.0</td>\n",
       "      <td>10.0</td>\n",
       "      <td>4.4</td>\n",
       "    </tr>\n",
       "    <tr>\n",
       "      <th>2</th>\n",
       "      <td>Abu</td>\n",
       "      <td>March</td>\n",
       "      <td>1901-2000</td>\n",
       "      <td>100</td>\n",
       "      <td>25.3</td>\n",
       "      <td>14.5</td>\n",
       "      <td>6.5</td>\n",
       "    </tr>\n",
       "    <tr>\n",
       "      <th>3</th>\n",
       "      <td>Abu</td>\n",
       "      <td>April</td>\n",
       "      <td>1901-2000</td>\n",
       "      <td>100</td>\n",
       "      <td>29.4</td>\n",
       "      <td>18.7</td>\n",
       "      <td>2.6</td>\n",
       "    </tr>\n",
       "    <tr>\n",
       "      <th>4</th>\n",
       "      <td>Abu</td>\n",
       "      <td>May</td>\n",
       "      <td>1901-2000</td>\n",
       "      <td>100</td>\n",
       "      <td>31.5</td>\n",
       "      <td>21.0</td>\n",
       "      <td>16.4</td>\n",
       "    </tr>\n",
       "  </tbody>\n",
       "</table>\n",
       "</div>"
      ],
      "text/plain": [
       "  Station Name     Month     Period  No. of Years  \\\n",
       "0          Abu   January  1901-2000           100   \n",
       "1          Abu  February  1901-2000           100   \n",
       "2          Abu     March  1901-2000           100   \n",
       "3          Abu     April  1901-2000           100   \n",
       "4          Abu       May  1901-2000           100   \n",
       "\n",
       "   Mean Temperature in degree C - Maximum  \\\n",
       "0                                    19.3   \n",
       "1                                    21.0   \n",
       "2                                    25.3   \n",
       "3                                    29.4   \n",
       "4                                    31.5   \n",
       "\n",
       "   Mean Temperature  in degree C - Minimum  Mean Rainfall in mm  \n",
       "0                                      8.0                  5.3  \n",
       "1                                     10.0                  4.4  \n",
       "2                                     14.5                  6.5  \n",
       "3                                     18.7                  2.6  \n",
       "4                                     21.0                 16.4  "
      ]
     },
     "execution_count": 5,
     "metadata": {},
     "output_type": "execute_result"
    }
   ],
   "source": [
    "df.head(5)"
   ]
  },
  {
   "cell_type": "code",
   "execution_count": 7,
   "metadata": {},
   "outputs": [
    {
     "data": {
      "text/html": [
       "<div>\n",
       "<style>\n",
       "    .dataframe thead tr:only-child th {\n",
       "        text-align: right;\n",
       "    }\n",
       "\n",
       "    .dataframe thead th {\n",
       "        text-align: left;\n",
       "    }\n",
       "\n",
       "    .dataframe tbody tr th {\n",
       "        vertical-align: top;\n",
       "    }\n",
       "</style>\n",
       "<table border=\"1\" class=\"dataframe\">\n",
       "  <thead>\n",
       "    <tr style=\"text-align: right;\">\n",
       "      <th></th>\n",
       "      <th>No. of Years</th>\n",
       "      <th>Mean Temperature in degree C - Maximum</th>\n",
       "      <th>Mean Temperature  in degree C - Minimum</th>\n",
       "      <th>Mean Rainfall in mm</th>\n",
       "    </tr>\n",
       "  </thead>\n",
       "  <tbody>\n",
       "    <tr>\n",
       "      <th>count</th>\n",
       "      <td>1332.000000</td>\n",
       "      <td>1332.000000</td>\n",
       "      <td>1332.000000</td>\n",
       "      <td>1332.000000</td>\n",
       "    </tr>\n",
       "    <tr>\n",
       "      <th>mean</th>\n",
       "      <td>64.378378</td>\n",
       "      <td>29.904129</td>\n",
       "      <td>18.823198</td>\n",
       "      <td>126.102177</td>\n",
       "    </tr>\n",
       "    <tr>\n",
       "      <th>std</th>\n",
       "      <td>29.160162</td>\n",
       "      <td>6.087324</td>\n",
       "      <td>6.461108</td>\n",
       "      <td>210.642750</td>\n",
       "    </tr>\n",
       "    <tr>\n",
       "      <th>min</th>\n",
       "      <td>5.000000</td>\n",
       "      <td>5.000000</td>\n",
       "      <td>-2.300000</td>\n",
       "      <td>0.000000</td>\n",
       "    </tr>\n",
       "    <tr>\n",
       "      <th>25%</th>\n",
       "      <td>43.000000</td>\n",
       "      <td>26.800000</td>\n",
       "      <td>13.975000</td>\n",
       "      <td>13.200000</td>\n",
       "    </tr>\n",
       "    <tr>\n",
       "      <th>50%</th>\n",
       "      <td>53.000000</td>\n",
       "      <td>30.700000</td>\n",
       "      <td>20.600000</td>\n",
       "      <td>51.150000</td>\n",
       "    </tr>\n",
       "    <tr>\n",
       "      <th>75%</th>\n",
       "      <td>98.000000</td>\n",
       "      <td>33.400000</td>\n",
       "      <td>24.300000</td>\n",
       "      <td>167.800000</td>\n",
       "    </tr>\n",
       "    <tr>\n",
       "      <th>max</th>\n",
       "      <td>100.000000</td>\n",
       "      <td>42.700000</td>\n",
       "      <td>29.300000</td>\n",
       "      <td>2622.000000</td>\n",
       "    </tr>\n",
       "  </tbody>\n",
       "</table>\n",
       "</div>"
      ],
      "text/plain": [
       "       No. of Years  Mean Temperature in degree C - Maximum  \\\n",
       "count   1332.000000                             1332.000000   \n",
       "mean      64.378378                               29.904129   \n",
       "std       29.160162                                6.087324   \n",
       "min        5.000000                                5.000000   \n",
       "25%       43.000000                               26.800000   \n",
       "50%       53.000000                               30.700000   \n",
       "75%       98.000000                               33.400000   \n",
       "max      100.000000                               42.700000   \n",
       "\n",
       "       Mean Temperature  in degree C - Minimum  Mean Rainfall in mm  \n",
       "count                              1332.000000          1332.000000  \n",
       "mean                                 18.823198           126.102177  \n",
       "std                                   6.461108           210.642750  \n",
       "min                                  -2.300000             0.000000  \n",
       "25%                                  13.975000            13.200000  \n",
       "50%                                  20.600000            51.150000  \n",
       "75%                                  24.300000           167.800000  \n",
       "max                                  29.300000          2622.000000  "
      ]
     },
     "execution_count": 7,
     "metadata": {},
     "output_type": "execute_result"
    }
   ],
   "source": [
    "df.describe()"
   ]
  },
  {
   "cell_type": "code",
   "execution_count": 8,
   "metadata": {},
   "outputs": [
    {
     "data": {
      "text/plain": [
       "Index(['Station Name', 'Month', 'Period', 'No. of Years',\n",
       "       'Mean Temperature in degree C - Maximum',\n",
       "       'Mean Temperature  in degree C - Minimum', 'Mean Rainfall in mm'],\n",
       "      dtype='object')"
      ]
     },
     "execution_count": 8,
     "metadata": {},
     "output_type": "execute_result"
    }
   ],
   "source": [
    "df.columns"
   ]
  },
  {
   "cell_type": "code",
   "execution_count": 9,
   "metadata": {},
   "outputs": [
    {
     "data": {
      "text/plain": [
       "Station Name                                object\n",
       "Month                                       object\n",
       "Period                                      object\n",
       "No. of Years                                 int64\n",
       "Mean Temperature in degree C - Maximum     float64\n",
       "Mean Temperature  in degree C - Minimum    float64\n",
       "Mean Rainfall in mm                        float64\n",
       "dtype: object"
      ]
     },
     "execution_count": 9,
     "metadata": {},
     "output_type": "execute_result"
    }
   ],
   "source": [
    "df.dtypes"
   ]
  },
  {
   "cell_type": "code",
   "execution_count": 10,
   "metadata": {},
   "outputs": [
    {
     "data": {
      "text/html": [
       "<div>\n",
       "<style>\n",
       "    .dataframe thead tr:only-child th {\n",
       "        text-align: right;\n",
       "    }\n",
       "\n",
       "    .dataframe thead th {\n",
       "        text-align: left;\n",
       "    }\n",
       "\n",
       "    .dataframe tbody tr th {\n",
       "        vertical-align: top;\n",
       "    }\n",
       "</style>\n",
       "<table border=\"1\" class=\"dataframe\">\n",
       "  <thead>\n",
       "    <tr style=\"text-align: right;\">\n",
       "      <th></th>\n",
       "      <th>Station Name</th>\n",
       "      <th>Month</th>\n",
       "      <th>Period</th>\n",
       "      <th>No. of Years</th>\n",
       "      <th>Mean Temperature in degree C - Maximum</th>\n",
       "      <th>Mean Temperature  in degree C - Minimum</th>\n",
       "      <th>Mean Rainfall in mm</th>\n",
       "    </tr>\n",
       "  </thead>\n",
       "  <tbody>\n",
       "    <tr>\n",
       "      <th>count</th>\n",
       "      <td>1332</td>\n",
       "      <td>1332</td>\n",
       "      <td>1332</td>\n",
       "      <td>1332.000000</td>\n",
       "      <td>1332.000000</td>\n",
       "      <td>1332.000000</td>\n",
       "      <td>1332.000000</td>\n",
       "    </tr>\n",
       "    <tr>\n",
       "      <th>unique</th>\n",
       "      <td>111</td>\n",
       "      <td>12</td>\n",
       "      <td>46</td>\n",
       "      <td>NaN</td>\n",
       "      <td>NaN</td>\n",
       "      <td>NaN</td>\n",
       "      <td>NaN</td>\n",
       "    </tr>\n",
       "    <tr>\n",
       "      <th>top</th>\n",
       "      <td>Jamshedpur</td>\n",
       "      <td>October</td>\n",
       "      <td>1901-2000</td>\n",
       "      <td>NaN</td>\n",
       "      <td>NaN</td>\n",
       "      <td>NaN</td>\n",
       "      <td>NaN</td>\n",
       "    </tr>\n",
       "    <tr>\n",
       "      <th>freq</th>\n",
       "      <td>12</td>\n",
       "      <td>111</td>\n",
       "      <td>456</td>\n",
       "      <td>NaN</td>\n",
       "      <td>NaN</td>\n",
       "      <td>NaN</td>\n",
       "      <td>NaN</td>\n",
       "    </tr>\n",
       "    <tr>\n",
       "      <th>mean</th>\n",
       "      <td>NaN</td>\n",
       "      <td>NaN</td>\n",
       "      <td>NaN</td>\n",
       "      <td>64.378378</td>\n",
       "      <td>29.904129</td>\n",
       "      <td>18.823198</td>\n",
       "      <td>126.102177</td>\n",
       "    </tr>\n",
       "    <tr>\n",
       "      <th>std</th>\n",
       "      <td>NaN</td>\n",
       "      <td>NaN</td>\n",
       "      <td>NaN</td>\n",
       "      <td>29.160162</td>\n",
       "      <td>6.087324</td>\n",
       "      <td>6.461108</td>\n",
       "      <td>210.642750</td>\n",
       "    </tr>\n",
       "    <tr>\n",
       "      <th>min</th>\n",
       "      <td>NaN</td>\n",
       "      <td>NaN</td>\n",
       "      <td>NaN</td>\n",
       "      <td>5.000000</td>\n",
       "      <td>5.000000</td>\n",
       "      <td>-2.300000</td>\n",
       "      <td>0.000000</td>\n",
       "    </tr>\n",
       "    <tr>\n",
       "      <th>25%</th>\n",
       "      <td>NaN</td>\n",
       "      <td>NaN</td>\n",
       "      <td>NaN</td>\n",
       "      <td>43.000000</td>\n",
       "      <td>26.800000</td>\n",
       "      <td>13.975000</td>\n",
       "      <td>13.200000</td>\n",
       "    </tr>\n",
       "    <tr>\n",
       "      <th>50%</th>\n",
       "      <td>NaN</td>\n",
       "      <td>NaN</td>\n",
       "      <td>NaN</td>\n",
       "      <td>53.000000</td>\n",
       "      <td>30.700000</td>\n",
       "      <td>20.600000</td>\n",
       "      <td>51.150000</td>\n",
       "    </tr>\n",
       "    <tr>\n",
       "      <th>75%</th>\n",
       "      <td>NaN</td>\n",
       "      <td>NaN</td>\n",
       "      <td>NaN</td>\n",
       "      <td>98.000000</td>\n",
       "      <td>33.400000</td>\n",
       "      <td>24.300000</td>\n",
       "      <td>167.800000</td>\n",
       "    </tr>\n",
       "    <tr>\n",
       "      <th>max</th>\n",
       "      <td>NaN</td>\n",
       "      <td>NaN</td>\n",
       "      <td>NaN</td>\n",
       "      <td>100.000000</td>\n",
       "      <td>42.700000</td>\n",
       "      <td>29.300000</td>\n",
       "      <td>2622.000000</td>\n",
       "    </tr>\n",
       "  </tbody>\n",
       "</table>\n",
       "</div>"
      ],
      "text/plain": [
       "       Station Name    Month     Period  No. of Years  \\\n",
       "count          1332     1332       1332   1332.000000   \n",
       "unique          111       12         46           NaN   \n",
       "top      Jamshedpur  October  1901-2000           NaN   \n",
       "freq             12      111        456           NaN   \n",
       "mean            NaN      NaN        NaN     64.378378   \n",
       "std             NaN      NaN        NaN     29.160162   \n",
       "min             NaN      NaN        NaN      5.000000   \n",
       "25%             NaN      NaN        NaN     43.000000   \n",
       "50%             NaN      NaN        NaN     53.000000   \n",
       "75%             NaN      NaN        NaN     98.000000   \n",
       "max             NaN      NaN        NaN    100.000000   \n",
       "\n",
       "        Mean Temperature in degree C - Maximum  \\\n",
       "count                              1332.000000   \n",
       "unique                                     NaN   \n",
       "top                                        NaN   \n",
       "freq                                       NaN   \n",
       "mean                                 29.904129   \n",
       "std                                   6.087324   \n",
       "min                                   5.000000   \n",
       "25%                                  26.800000   \n",
       "50%                                  30.700000   \n",
       "75%                                  33.400000   \n",
       "max                                  42.700000   \n",
       "\n",
       "        Mean Temperature  in degree C - Minimum  Mean Rainfall in mm  \n",
       "count                               1332.000000          1332.000000  \n",
       "unique                                      NaN                  NaN  \n",
       "top                                         NaN                  NaN  \n",
       "freq                                        NaN                  NaN  \n",
       "mean                                  18.823198           126.102177  \n",
       "std                                    6.461108           210.642750  \n",
       "min                                   -2.300000             0.000000  \n",
       "25%                                   13.975000            13.200000  \n",
       "50%                                   20.600000            51.150000  \n",
       "75%                                   24.300000           167.800000  \n",
       "max                                   29.300000          2622.000000  "
      ]
     },
     "execution_count": 10,
     "metadata": {},
     "output_type": "execute_result"
    }
   ],
   "source": [
    "df.describe(include = \"all\")"
   ]
  },
  {
   "cell_type": "code",
   "execution_count": 11,
   "metadata": {},
   "outputs": [
    {
     "data": {
      "text/plain": [
       "<bound method DataFrame.info of              Station Name      Month     Period  No. of Years  \\\n",
       "0                     Abu    January  1901-2000           100   \n",
       "1                     Abu   February  1901-2000           100   \n",
       "2                     Abu      March  1901-2000           100   \n",
       "3                     Abu      April  1901-2000           100   \n",
       "4                     Abu        May  1901-2000           100   \n",
       "5                     Abu       June  1901-2000           100   \n",
       "6                     Abu       July  1901-2000           100   \n",
       "7                     Abu     August  1901-2000           100   \n",
       "8                     Abu  September  1901-2000           100   \n",
       "9                     Abu    October  1901-2000           100   \n",
       "10                    Abu   November  1901-2000           100   \n",
       "11                    Abu   December  1901-2000           100   \n",
       "12           Agartala (A)    January  1953-2000            43   \n",
       "13           Agartala (A)   February  1953-2000            43   \n",
       "14           Agartala (A)      March  1953-2000            43   \n",
       "15           Agartala (A)      April  1953-2000            43   \n",
       "16           Agartala (A)        May  1953-2000            43   \n",
       "17           Agartala (A)       June  1953-2000            43   \n",
       "18           Agartala (A)       July  1953-2000            43   \n",
       "19           Agartala (A)     August  1953-2000            43   \n",
       "20           Agartala (A)  September  1953-2000            43   \n",
       "21           Agartala (A)    October  1953-2000            43   \n",
       "22           Agartala (A)   November  1953-2000            43   \n",
       "23           Agartala (A)   December  1953-2000            43   \n",
       "24                   Agra    January  1901-2000           100   \n",
       "25                   Agra   February  1901-2000           100   \n",
       "26                   Agra      March  1901-2000           100   \n",
       "27                   Agra      April  1901-2000           100   \n",
       "28                   Agra        May  1901-2000           100   \n",
       "29                   Agra       June  1901-2000           100   \n",
       "...                   ...        ...        ...           ...   \n",
       "1302  Varanasi (Babatpur)       July  1952-2000            48   \n",
       "1303  Varanasi (Babatpur)     August  1952-2000            48   \n",
       "1304  Varanasi (Babatpur)  September  1952-2000            48   \n",
       "1305  Varanasi (Babatpur)    October  1952-2000            48   \n",
       "1306  Varanasi (Babatpur)   November  1952-2000            48   \n",
       "1307  Varanasi (Babatpur)   December  1952-2000            48   \n",
       "1308           Vijayawada    January  1978-1993            14   \n",
       "1309           Vijayawada   February  1978-1993            14   \n",
       "1310           Vijayawada      March  1978-1993            14   \n",
       "1311           Vijayawada      April  1978-1993            14   \n",
       "1312           Vijayawada        May  1978-1993            14   \n",
       "1313           Vijayawada       June  1978-1993            14   \n",
       "1314           Vijayawada       July  1978-1993            14   \n",
       "1315           Vijayawada     August  1978-1993            14   \n",
       "1316           Vijayawada  September  1978-1993            14   \n",
       "1317           Vijayawada    October  1978-1993            14   \n",
       "1318           Vijayawada   November  1978-1993            14   \n",
       "1319           Vijayawada   December  1978-1993            14   \n",
       "1320       Vishakhapatnam    January  1968-2000            29   \n",
       "1321       Vishakhapatnam   February  1968-2000            29   \n",
       "1322       Vishakhapatnam      March  1968-2000            29   \n",
       "1323       Vishakhapatnam      April  1968-2000            29   \n",
       "1324       Vishakhapatnam        May  1968-2000            29   \n",
       "1325       Vishakhapatnam       June  1968-2000            29   \n",
       "1326       Vishakhapatnam       July  1968-2000            29   \n",
       "1327       Vishakhapatnam     August  1968-2000            29   \n",
       "1328       Vishakhapatnam  September  1968-2000            29   \n",
       "1329       Vishakhapatnam    October  1968-2000            29   \n",
       "1330       Vishakhapatnam   November  1968-2000            29   \n",
       "1331       Vishakhapatnam   December  1968-2000            29   \n",
       "\n",
       "      Mean Temperature in degree C - Maximum  \\\n",
       "0                                       19.3   \n",
       "1                                       21.0   \n",
       "2                                       25.3   \n",
       "3                                       29.4   \n",
       "4                                       31.5   \n",
       "5                                       29.1   \n",
       "6                                       24.5   \n",
       "7                                       22.7   \n",
       "8                                       24.5   \n",
       "9                                       26.7   \n",
       "10                                      23.8   \n",
       "11                                      20.9   \n",
       "12                                      25.6   \n",
       "13                                      28.3   \n",
       "14                                      32.5   \n",
       "15                                      33.7   \n",
       "16                                      32.8   \n",
       "17                                      31.8   \n",
       "18                                      31.4   \n",
       "19                                      31.7   \n",
       "20                                      31.7   \n",
       "21                                      31.1   \n",
       "22                                      29.2   \n",
       "23                                      26.4   \n",
       "24                                      22.3   \n",
       "25                                      25.5   \n",
       "26                                      31.9   \n",
       "27                                      37.9   \n",
       "28                                      41.7   \n",
       "29                                      40.7   \n",
       "...                                      ...   \n",
       "1302                                    33.8   \n",
       "1303                                    32.8   \n",
       "1304                                    32.7   \n",
       "1305                                    32.7   \n",
       "1306                                    29.3   \n",
       "1307                                    24.6   \n",
       "1308                                    30.2   \n",
       "1309                                    32.7   \n",
       "1310                                    35.6   \n",
       "1311                                    38.2   \n",
       "1312                                    39.9   \n",
       "1313                                    37.2   \n",
       "1314                                    33.7   \n",
       "1315                                    33.1   \n",
       "1316                                    32.4   \n",
       "1317                                    32.4   \n",
       "1318                                    31.0   \n",
       "1319                                    30.3   \n",
       "1320                                    27.7   \n",
       "1321                                    29.2   \n",
       "1322                                    30.8   \n",
       "1323                                    31.8   \n",
       "1324                                    33.1   \n",
       "1325                                    32.8   \n",
       "1326                                    31.2   \n",
       "1327                                    31.3   \n",
       "1328                                    31.3   \n",
       "1329                                    31.1   \n",
       "1330                                    29.6   \n",
       "1331                                    27.9   \n",
       "\n",
       "      Mean Temperature  in degree C - Minimum  Mean Rainfall in mm  \n",
       "0                                         8.0                  5.3  \n",
       "1                                        10.0                  4.4  \n",
       "2                                        14.5                  6.5  \n",
       "3                                        18.7                  2.6  \n",
       "4                                        21.0                 16.4  \n",
       "5                                        19.8                101.6  \n",
       "6                                        18.7                573.2  \n",
       "7                                        17.8                600.3  \n",
       "8                                        17.6                214.2  \n",
       "9                                        16.2                 19.4  \n",
       "10                                       12.1                  7.9  \n",
       "11                                        9.0                  2.4  \n",
       "12                                       10.0                 27.5  \n",
       "13                                       13.2                 21.5  \n",
       "14                                       18.7                 60.7  \n",
       "15                                       22.2                199.7  \n",
       "16                                       23.5                329.9  \n",
       "17                                       24.6                393.4  \n",
       "18                                       24.8                363.1  \n",
       "19                                       24.7                298.7  \n",
       "20                                       24.3                232.4  \n",
       "21                                       22.0                162.5  \n",
       "22                                       16.6                 46.0  \n",
       "23                                       11.3                 10.6  \n",
       "24                                        7.7                 13.2  \n",
       "25                                       10.3                 17.6  \n",
       "26                                       15.5                  9.3  \n",
       "27                                       21.5                  6.3  \n",
       "28                                       26.5                 11.3  \n",
       "29                                       28.9                 55.7  \n",
       "...                                       ...                  ...  \n",
       "1302                                     26.4                309.9  \n",
       "1303                                     26.0                273.2  \n",
       "1304                                     25.0                246.4  \n",
       "1305                                     20.7                 35.1  \n",
       "1306                                     14.1                 10.7  \n",
       "1307                                      9.6                  6.5  \n",
       "1308                                     18.6                  6.2  \n",
       "1309                                     20.6                  4.6  \n",
       "1310                                     23.3                  4.6  \n",
       "1311                                     26.2                  4.8  \n",
       "1312                                     27.8                 20.8  \n",
       "1313                                     26.9                 80.8  \n",
       "1314                                     25.0                173.0  \n",
       "1315                                     25.0                146.2  \n",
       "1316                                     24.5                179.9  \n",
       "1317                                     23.2                 57.2  \n",
       "1318                                     20.9                 52.3  \n",
       "1319                                     19.7                  5.8  \n",
       "1320                                     20.6                 14.2  \n",
       "1321                                     22.2                 21.1  \n",
       "1322                                     24.4                  8.3  \n",
       "1323                                     26.3                 25.6  \n",
       "1324                                     27.5                 68.7  \n",
       "1325                                     27.4                124.6  \n",
       "1326                                     26.2                142.1  \n",
       "1327                                     26.0                165.2  \n",
       "1328                                     25.8                164.0  \n",
       "1329                                     24.9                238.2  \n",
       "1330                                     23.1                124.0  \n",
       "1331                                     20.9                  6.7  \n",
       "\n",
       "[1332 rows x 7 columns]>"
      ]
     },
     "execution_count": 11,
     "metadata": {},
     "output_type": "execute_result"
    }
   ],
   "source": [
    "df.info"
   ]
  },
  {
   "cell_type": "code",
   "execution_count": 13,
   "metadata": {},
   "outputs": [
    {
     "data": {
      "text/html": [
       "<div>\n",
       "<style>\n",
       "    .dataframe thead tr:only-child th {\n",
       "        text-align: right;\n",
       "    }\n",
       "\n",
       "    .dataframe thead th {\n",
       "        text-align: left;\n",
       "    }\n",
       "\n",
       "    .dataframe tbody tr th {\n",
       "        vertical-align: top;\n",
       "    }\n",
       "</style>\n",
       "<table border=\"1\" class=\"dataframe\">\n",
       "  <thead>\n",
       "    <tr style=\"text-align: right;\">\n",
       "      <th></th>\n",
       "      <th>Station Name</th>\n",
       "      <th>Month</th>\n",
       "      <th>Period</th>\n",
       "      <th>No. of Years</th>\n",
       "      <th>Mean Temperature in degree C - Maximum</th>\n",
       "      <th>Mean Temperature  in degree C - Minimum</th>\n",
       "      <th>Mean Rainfall in mm</th>\n",
       "    </tr>\n",
       "  </thead>\n",
       "  <tbody>\n",
       "    <tr>\n",
       "      <th>0</th>\n",
       "      <td>True</td>\n",
       "      <td>True</td>\n",
       "      <td>True</td>\n",
       "      <td>True</td>\n",
       "      <td>True</td>\n",
       "      <td>True</td>\n",
       "      <td>True</td>\n",
       "    </tr>\n",
       "    <tr>\n",
       "      <th>1</th>\n",
       "      <td>True</td>\n",
       "      <td>True</td>\n",
       "      <td>True</td>\n",
       "      <td>True</td>\n",
       "      <td>True</td>\n",
       "      <td>True</td>\n",
       "      <td>True</td>\n",
       "    </tr>\n",
       "    <tr>\n",
       "      <th>2</th>\n",
       "      <td>True</td>\n",
       "      <td>True</td>\n",
       "      <td>True</td>\n",
       "      <td>True</td>\n",
       "      <td>True</td>\n",
       "      <td>True</td>\n",
       "      <td>True</td>\n",
       "    </tr>\n",
       "    <tr>\n",
       "      <th>3</th>\n",
       "      <td>True</td>\n",
       "      <td>True</td>\n",
       "      <td>True</td>\n",
       "      <td>True</td>\n",
       "      <td>True</td>\n",
       "      <td>True</td>\n",
       "      <td>True</td>\n",
       "    </tr>\n",
       "    <tr>\n",
       "      <th>4</th>\n",
       "      <td>True</td>\n",
       "      <td>True</td>\n",
       "      <td>True</td>\n",
       "      <td>True</td>\n",
       "      <td>True</td>\n",
       "      <td>True</td>\n",
       "      <td>True</td>\n",
       "    </tr>\n",
       "    <tr>\n",
       "      <th>5</th>\n",
       "      <td>True</td>\n",
       "      <td>True</td>\n",
       "      <td>True</td>\n",
       "      <td>True</td>\n",
       "      <td>True</td>\n",
       "      <td>True</td>\n",
       "      <td>True</td>\n",
       "    </tr>\n",
       "    <tr>\n",
       "      <th>6</th>\n",
       "      <td>True</td>\n",
       "      <td>True</td>\n",
       "      <td>True</td>\n",
       "      <td>True</td>\n",
       "      <td>True</td>\n",
       "      <td>True</td>\n",
       "      <td>True</td>\n",
       "    </tr>\n",
       "    <tr>\n",
       "      <th>7</th>\n",
       "      <td>True</td>\n",
       "      <td>True</td>\n",
       "      <td>True</td>\n",
       "      <td>True</td>\n",
       "      <td>True</td>\n",
       "      <td>True</td>\n",
       "      <td>True</td>\n",
       "    </tr>\n",
       "    <tr>\n",
       "      <th>8</th>\n",
       "      <td>True</td>\n",
       "      <td>True</td>\n",
       "      <td>True</td>\n",
       "      <td>True</td>\n",
       "      <td>True</td>\n",
       "      <td>True</td>\n",
       "      <td>True</td>\n",
       "    </tr>\n",
       "    <tr>\n",
       "      <th>9</th>\n",
       "      <td>True</td>\n",
       "      <td>True</td>\n",
       "      <td>True</td>\n",
       "      <td>True</td>\n",
       "      <td>True</td>\n",
       "      <td>True</td>\n",
       "      <td>True</td>\n",
       "    </tr>\n",
       "    <tr>\n",
       "      <th>10</th>\n",
       "      <td>True</td>\n",
       "      <td>True</td>\n",
       "      <td>True</td>\n",
       "      <td>True</td>\n",
       "      <td>True</td>\n",
       "      <td>True</td>\n",
       "      <td>True</td>\n",
       "    </tr>\n",
       "    <tr>\n",
       "      <th>11</th>\n",
       "      <td>True</td>\n",
       "      <td>True</td>\n",
       "      <td>True</td>\n",
       "      <td>True</td>\n",
       "      <td>True</td>\n",
       "      <td>True</td>\n",
       "      <td>True</td>\n",
       "    </tr>\n",
       "    <tr>\n",
       "      <th>12</th>\n",
       "      <td>True</td>\n",
       "      <td>True</td>\n",
       "      <td>True</td>\n",
       "      <td>True</td>\n",
       "      <td>True</td>\n",
       "      <td>True</td>\n",
       "      <td>True</td>\n",
       "    </tr>\n",
       "    <tr>\n",
       "      <th>13</th>\n",
       "      <td>True</td>\n",
       "      <td>True</td>\n",
       "      <td>True</td>\n",
       "      <td>True</td>\n",
       "      <td>True</td>\n",
       "      <td>True</td>\n",
       "      <td>True</td>\n",
       "    </tr>\n",
       "    <tr>\n",
       "      <th>14</th>\n",
       "      <td>True</td>\n",
       "      <td>True</td>\n",
       "      <td>True</td>\n",
       "      <td>True</td>\n",
       "      <td>True</td>\n",
       "      <td>True</td>\n",
       "      <td>True</td>\n",
       "    </tr>\n",
       "    <tr>\n",
       "      <th>15</th>\n",
       "      <td>True</td>\n",
       "      <td>True</td>\n",
       "      <td>True</td>\n",
       "      <td>True</td>\n",
       "      <td>True</td>\n",
       "      <td>True</td>\n",
       "      <td>True</td>\n",
       "    </tr>\n",
       "    <tr>\n",
       "      <th>16</th>\n",
       "      <td>True</td>\n",
       "      <td>True</td>\n",
       "      <td>True</td>\n",
       "      <td>True</td>\n",
       "      <td>True</td>\n",
       "      <td>True</td>\n",
       "      <td>True</td>\n",
       "    </tr>\n",
       "    <tr>\n",
       "      <th>17</th>\n",
       "      <td>True</td>\n",
       "      <td>True</td>\n",
       "      <td>True</td>\n",
       "      <td>True</td>\n",
       "      <td>True</td>\n",
       "      <td>True</td>\n",
       "      <td>True</td>\n",
       "    </tr>\n",
       "    <tr>\n",
       "      <th>18</th>\n",
       "      <td>True</td>\n",
       "      <td>True</td>\n",
       "      <td>True</td>\n",
       "      <td>True</td>\n",
       "      <td>True</td>\n",
       "      <td>True</td>\n",
       "      <td>True</td>\n",
       "    </tr>\n",
       "    <tr>\n",
       "      <th>19</th>\n",
       "      <td>True</td>\n",
       "      <td>True</td>\n",
       "      <td>True</td>\n",
       "      <td>True</td>\n",
       "      <td>True</td>\n",
       "      <td>True</td>\n",
       "      <td>True</td>\n",
       "    </tr>\n",
       "    <tr>\n",
       "      <th>20</th>\n",
       "      <td>True</td>\n",
       "      <td>True</td>\n",
       "      <td>True</td>\n",
       "      <td>True</td>\n",
       "      <td>True</td>\n",
       "      <td>True</td>\n",
       "      <td>True</td>\n",
       "    </tr>\n",
       "    <tr>\n",
       "      <th>21</th>\n",
       "      <td>True</td>\n",
       "      <td>True</td>\n",
       "      <td>True</td>\n",
       "      <td>True</td>\n",
       "      <td>True</td>\n",
       "      <td>True</td>\n",
       "      <td>True</td>\n",
       "    </tr>\n",
       "    <tr>\n",
       "      <th>22</th>\n",
       "      <td>True</td>\n",
       "      <td>True</td>\n",
       "      <td>True</td>\n",
       "      <td>True</td>\n",
       "      <td>True</td>\n",
       "      <td>True</td>\n",
       "      <td>True</td>\n",
       "    </tr>\n",
       "    <tr>\n",
       "      <th>23</th>\n",
       "      <td>True</td>\n",
       "      <td>True</td>\n",
       "      <td>True</td>\n",
       "      <td>True</td>\n",
       "      <td>True</td>\n",
       "      <td>True</td>\n",
       "      <td>True</td>\n",
       "    </tr>\n",
       "    <tr>\n",
       "      <th>24</th>\n",
       "      <td>True</td>\n",
       "      <td>True</td>\n",
       "      <td>True</td>\n",
       "      <td>True</td>\n",
       "      <td>True</td>\n",
       "      <td>True</td>\n",
       "      <td>True</td>\n",
       "    </tr>\n",
       "    <tr>\n",
       "      <th>25</th>\n",
       "      <td>True</td>\n",
       "      <td>True</td>\n",
       "      <td>True</td>\n",
       "      <td>True</td>\n",
       "      <td>True</td>\n",
       "      <td>True</td>\n",
       "      <td>True</td>\n",
       "    </tr>\n",
       "    <tr>\n",
       "      <th>26</th>\n",
       "      <td>True</td>\n",
       "      <td>True</td>\n",
       "      <td>True</td>\n",
       "      <td>True</td>\n",
       "      <td>True</td>\n",
       "      <td>True</td>\n",
       "      <td>True</td>\n",
       "    </tr>\n",
       "    <tr>\n",
       "      <th>27</th>\n",
       "      <td>True</td>\n",
       "      <td>True</td>\n",
       "      <td>True</td>\n",
       "      <td>True</td>\n",
       "      <td>True</td>\n",
       "      <td>True</td>\n",
       "      <td>True</td>\n",
       "    </tr>\n",
       "    <tr>\n",
       "      <th>28</th>\n",
       "      <td>True</td>\n",
       "      <td>True</td>\n",
       "      <td>True</td>\n",
       "      <td>True</td>\n",
       "      <td>True</td>\n",
       "      <td>True</td>\n",
       "      <td>True</td>\n",
       "    </tr>\n",
       "    <tr>\n",
       "      <th>29</th>\n",
       "      <td>True</td>\n",
       "      <td>True</td>\n",
       "      <td>True</td>\n",
       "      <td>True</td>\n",
       "      <td>True</td>\n",
       "      <td>True</td>\n",
       "      <td>True</td>\n",
       "    </tr>\n",
       "    <tr>\n",
       "      <th>...</th>\n",
       "      <td>...</td>\n",
       "      <td>...</td>\n",
       "      <td>...</td>\n",
       "      <td>...</td>\n",
       "      <td>...</td>\n",
       "      <td>...</td>\n",
       "      <td>...</td>\n",
       "    </tr>\n",
       "    <tr>\n",
       "      <th>1270</th>\n",
       "      <td>True</td>\n",
       "      <td>True</td>\n",
       "      <td>True</td>\n",
       "      <td>True</td>\n",
       "      <td>True</td>\n",
       "      <td>True</td>\n",
       "      <td>True</td>\n",
       "    </tr>\n",
       "    <tr>\n",
       "      <th>1271</th>\n",
       "      <td>True</td>\n",
       "      <td>True</td>\n",
       "      <td>True</td>\n",
       "      <td>True</td>\n",
       "      <td>True</td>\n",
       "      <td>True</td>\n",
       "      <td>True</td>\n",
       "    </tr>\n",
       "    <tr>\n",
       "      <th>1272</th>\n",
       "      <td>True</td>\n",
       "      <td>True</td>\n",
       "      <td>True</td>\n",
       "      <td>True</td>\n",
       "      <td>True</td>\n",
       "      <td>True</td>\n",
       "      <td>True</td>\n",
       "    </tr>\n",
       "    <tr>\n",
       "      <th>1273</th>\n",
       "      <td>True</td>\n",
       "      <td>True</td>\n",
       "      <td>True</td>\n",
       "      <td>True</td>\n",
       "      <td>True</td>\n",
       "      <td>True</td>\n",
       "      <td>True</td>\n",
       "    </tr>\n",
       "    <tr>\n",
       "      <th>1274</th>\n",
       "      <td>True</td>\n",
       "      <td>True</td>\n",
       "      <td>True</td>\n",
       "      <td>True</td>\n",
       "      <td>True</td>\n",
       "      <td>True</td>\n",
       "      <td>True</td>\n",
       "    </tr>\n",
       "    <tr>\n",
       "      <th>1275</th>\n",
       "      <td>True</td>\n",
       "      <td>True</td>\n",
       "      <td>True</td>\n",
       "      <td>True</td>\n",
       "      <td>True</td>\n",
       "      <td>True</td>\n",
       "      <td>True</td>\n",
       "    </tr>\n",
       "    <tr>\n",
       "      <th>1276</th>\n",
       "      <td>True</td>\n",
       "      <td>True</td>\n",
       "      <td>True</td>\n",
       "      <td>True</td>\n",
       "      <td>True</td>\n",
       "      <td>True</td>\n",
       "      <td>True</td>\n",
       "    </tr>\n",
       "    <tr>\n",
       "      <th>1277</th>\n",
       "      <td>True</td>\n",
       "      <td>True</td>\n",
       "      <td>True</td>\n",
       "      <td>True</td>\n",
       "      <td>True</td>\n",
       "      <td>True</td>\n",
       "      <td>True</td>\n",
       "    </tr>\n",
       "    <tr>\n",
       "      <th>1278</th>\n",
       "      <td>True</td>\n",
       "      <td>True</td>\n",
       "      <td>True</td>\n",
       "      <td>True</td>\n",
       "      <td>True</td>\n",
       "      <td>True</td>\n",
       "      <td>True</td>\n",
       "    </tr>\n",
       "    <tr>\n",
       "      <th>1279</th>\n",
       "      <td>True</td>\n",
       "      <td>True</td>\n",
       "      <td>True</td>\n",
       "      <td>True</td>\n",
       "      <td>True</td>\n",
       "      <td>True</td>\n",
       "      <td>True</td>\n",
       "    </tr>\n",
       "    <tr>\n",
       "      <th>1280</th>\n",
       "      <td>True</td>\n",
       "      <td>True</td>\n",
       "      <td>True</td>\n",
       "      <td>True</td>\n",
       "      <td>True</td>\n",
       "      <td>True</td>\n",
       "      <td>True</td>\n",
       "    </tr>\n",
       "    <tr>\n",
       "      <th>1281</th>\n",
       "      <td>True</td>\n",
       "      <td>True</td>\n",
       "      <td>True</td>\n",
       "      <td>True</td>\n",
       "      <td>True</td>\n",
       "      <td>True</td>\n",
       "      <td>True</td>\n",
       "    </tr>\n",
       "    <tr>\n",
       "      <th>1282</th>\n",
       "      <td>True</td>\n",
       "      <td>True</td>\n",
       "      <td>True</td>\n",
       "      <td>True</td>\n",
       "      <td>True</td>\n",
       "      <td>True</td>\n",
       "      <td>True</td>\n",
       "    </tr>\n",
       "    <tr>\n",
       "      <th>1283</th>\n",
       "      <td>True</td>\n",
       "      <td>True</td>\n",
       "      <td>True</td>\n",
       "      <td>True</td>\n",
       "      <td>True</td>\n",
       "      <td>True</td>\n",
       "      <td>True</td>\n",
       "    </tr>\n",
       "    <tr>\n",
       "      <th>1284</th>\n",
       "      <td>True</td>\n",
       "      <td>True</td>\n",
       "      <td>True</td>\n",
       "      <td>True</td>\n",
       "      <td>True</td>\n",
       "      <td>True</td>\n",
       "      <td>True</td>\n",
       "    </tr>\n",
       "    <tr>\n",
       "      <th>1285</th>\n",
       "      <td>True</td>\n",
       "      <td>True</td>\n",
       "      <td>True</td>\n",
       "      <td>True</td>\n",
       "      <td>True</td>\n",
       "      <td>True</td>\n",
       "      <td>True</td>\n",
       "    </tr>\n",
       "    <tr>\n",
       "      <th>1286</th>\n",
       "      <td>True</td>\n",
       "      <td>True</td>\n",
       "      <td>True</td>\n",
       "      <td>True</td>\n",
       "      <td>True</td>\n",
       "      <td>True</td>\n",
       "      <td>True</td>\n",
       "    </tr>\n",
       "    <tr>\n",
       "      <th>1287</th>\n",
       "      <td>True</td>\n",
       "      <td>True</td>\n",
       "      <td>True</td>\n",
       "      <td>True</td>\n",
       "      <td>True</td>\n",
       "      <td>True</td>\n",
       "      <td>True</td>\n",
       "    </tr>\n",
       "    <tr>\n",
       "      <th>1288</th>\n",
       "      <td>True</td>\n",
       "      <td>True</td>\n",
       "      <td>True</td>\n",
       "      <td>True</td>\n",
       "      <td>True</td>\n",
       "      <td>True</td>\n",
       "      <td>True</td>\n",
       "    </tr>\n",
       "    <tr>\n",
       "      <th>1289</th>\n",
       "      <td>True</td>\n",
       "      <td>True</td>\n",
       "      <td>True</td>\n",
       "      <td>True</td>\n",
       "      <td>True</td>\n",
       "      <td>True</td>\n",
       "      <td>True</td>\n",
       "    </tr>\n",
       "    <tr>\n",
       "      <th>1290</th>\n",
       "      <td>True</td>\n",
       "      <td>True</td>\n",
       "      <td>True</td>\n",
       "      <td>True</td>\n",
       "      <td>True</td>\n",
       "      <td>True</td>\n",
       "      <td>True</td>\n",
       "    </tr>\n",
       "    <tr>\n",
       "      <th>1291</th>\n",
       "      <td>True</td>\n",
       "      <td>True</td>\n",
       "      <td>True</td>\n",
       "      <td>True</td>\n",
       "      <td>True</td>\n",
       "      <td>True</td>\n",
       "      <td>True</td>\n",
       "    </tr>\n",
       "    <tr>\n",
       "      <th>1292</th>\n",
       "      <td>True</td>\n",
       "      <td>True</td>\n",
       "      <td>True</td>\n",
       "      <td>True</td>\n",
       "      <td>True</td>\n",
       "      <td>True</td>\n",
       "      <td>True</td>\n",
       "    </tr>\n",
       "    <tr>\n",
       "      <th>1293</th>\n",
       "      <td>True</td>\n",
       "      <td>True</td>\n",
       "      <td>True</td>\n",
       "      <td>True</td>\n",
       "      <td>True</td>\n",
       "      <td>True</td>\n",
       "      <td>True</td>\n",
       "    </tr>\n",
       "    <tr>\n",
       "      <th>1294</th>\n",
       "      <td>True</td>\n",
       "      <td>True</td>\n",
       "      <td>True</td>\n",
       "      <td>True</td>\n",
       "      <td>True</td>\n",
       "      <td>True</td>\n",
       "      <td>True</td>\n",
       "    </tr>\n",
       "    <tr>\n",
       "      <th>1295</th>\n",
       "      <td>True</td>\n",
       "      <td>True</td>\n",
       "      <td>True</td>\n",
       "      <td>True</td>\n",
       "      <td>True</td>\n",
       "      <td>True</td>\n",
       "      <td>True</td>\n",
       "    </tr>\n",
       "    <tr>\n",
       "      <th>1296</th>\n",
       "      <td>True</td>\n",
       "      <td>True</td>\n",
       "      <td>True</td>\n",
       "      <td>True</td>\n",
       "      <td>True</td>\n",
       "      <td>True</td>\n",
       "      <td>True</td>\n",
       "    </tr>\n",
       "    <tr>\n",
       "      <th>1297</th>\n",
       "      <td>True</td>\n",
       "      <td>True</td>\n",
       "      <td>True</td>\n",
       "      <td>True</td>\n",
       "      <td>True</td>\n",
       "      <td>True</td>\n",
       "      <td>True</td>\n",
       "    </tr>\n",
       "    <tr>\n",
       "      <th>1298</th>\n",
       "      <td>True</td>\n",
       "      <td>True</td>\n",
       "      <td>True</td>\n",
       "      <td>True</td>\n",
       "      <td>True</td>\n",
       "      <td>True</td>\n",
       "      <td>True</td>\n",
       "    </tr>\n",
       "    <tr>\n",
       "      <th>1299</th>\n",
       "      <td>True</td>\n",
       "      <td>True</td>\n",
       "      <td>True</td>\n",
       "      <td>True</td>\n",
       "      <td>True</td>\n",
       "      <td>True</td>\n",
       "      <td>True</td>\n",
       "    </tr>\n",
       "  </tbody>\n",
       "</table>\n",
       "<p>1300 rows × 7 columns</p>\n",
       "</div>"
      ],
      "text/plain": [
       "      Station Name  Month  Period  No. of Years  \\\n",
       "0             True   True    True          True   \n",
       "1             True   True    True          True   \n",
       "2             True   True    True          True   \n",
       "3             True   True    True          True   \n",
       "4             True   True    True          True   \n",
       "5             True   True    True          True   \n",
       "6             True   True    True          True   \n",
       "7             True   True    True          True   \n",
       "8             True   True    True          True   \n",
       "9             True   True    True          True   \n",
       "10            True   True    True          True   \n",
       "11            True   True    True          True   \n",
       "12            True   True    True          True   \n",
       "13            True   True    True          True   \n",
       "14            True   True    True          True   \n",
       "15            True   True    True          True   \n",
       "16            True   True    True          True   \n",
       "17            True   True    True          True   \n",
       "18            True   True    True          True   \n",
       "19            True   True    True          True   \n",
       "20            True   True    True          True   \n",
       "21            True   True    True          True   \n",
       "22            True   True    True          True   \n",
       "23            True   True    True          True   \n",
       "24            True   True    True          True   \n",
       "25            True   True    True          True   \n",
       "26            True   True    True          True   \n",
       "27            True   True    True          True   \n",
       "28            True   True    True          True   \n",
       "29            True   True    True          True   \n",
       "...            ...    ...     ...           ...   \n",
       "1270          True   True    True          True   \n",
       "1271          True   True    True          True   \n",
       "1272          True   True    True          True   \n",
       "1273          True   True    True          True   \n",
       "1274          True   True    True          True   \n",
       "1275          True   True    True          True   \n",
       "1276          True   True    True          True   \n",
       "1277          True   True    True          True   \n",
       "1278          True   True    True          True   \n",
       "1279          True   True    True          True   \n",
       "1280          True   True    True          True   \n",
       "1281          True   True    True          True   \n",
       "1282          True   True    True          True   \n",
       "1283          True   True    True          True   \n",
       "1284          True   True    True          True   \n",
       "1285          True   True    True          True   \n",
       "1286          True   True    True          True   \n",
       "1287          True   True    True          True   \n",
       "1288          True   True    True          True   \n",
       "1289          True   True    True          True   \n",
       "1290          True   True    True          True   \n",
       "1291          True   True    True          True   \n",
       "1292          True   True    True          True   \n",
       "1293          True   True    True          True   \n",
       "1294          True   True    True          True   \n",
       "1295          True   True    True          True   \n",
       "1296          True   True    True          True   \n",
       "1297          True   True    True          True   \n",
       "1298          True   True    True          True   \n",
       "1299          True   True    True          True   \n",
       "\n",
       "      Mean Temperature in degree C - Maximum  \\\n",
       "0                                       True   \n",
       "1                                       True   \n",
       "2                                       True   \n",
       "3                                       True   \n",
       "4                                       True   \n",
       "5                                       True   \n",
       "6                                       True   \n",
       "7                                       True   \n",
       "8                                       True   \n",
       "9                                       True   \n",
       "10                                      True   \n",
       "11                                      True   \n",
       "12                                      True   \n",
       "13                                      True   \n",
       "14                                      True   \n",
       "15                                      True   \n",
       "16                                      True   \n",
       "17                                      True   \n",
       "18                                      True   \n",
       "19                                      True   \n",
       "20                                      True   \n",
       "21                                      True   \n",
       "22                                      True   \n",
       "23                                      True   \n",
       "24                                      True   \n",
       "25                                      True   \n",
       "26                                      True   \n",
       "27                                      True   \n",
       "28                                      True   \n",
       "29                                      True   \n",
       "...                                      ...   \n",
       "1270                                    True   \n",
       "1271                                    True   \n",
       "1272                                    True   \n",
       "1273                                    True   \n",
       "1274                                    True   \n",
       "1275                                    True   \n",
       "1276                                    True   \n",
       "1277                                    True   \n",
       "1278                                    True   \n",
       "1279                                    True   \n",
       "1280                                    True   \n",
       "1281                                    True   \n",
       "1282                                    True   \n",
       "1283                                    True   \n",
       "1284                                    True   \n",
       "1285                                    True   \n",
       "1286                                    True   \n",
       "1287                                    True   \n",
       "1288                                    True   \n",
       "1289                                    True   \n",
       "1290                                    True   \n",
       "1291                                    True   \n",
       "1292                                    True   \n",
       "1293                                    True   \n",
       "1294                                    True   \n",
       "1295                                    True   \n",
       "1296                                    True   \n",
       "1297                                    True   \n",
       "1298                                    True   \n",
       "1299                                    True   \n",
       "\n",
       "      Mean Temperature  in degree C - Minimum  Mean Rainfall in mm  \n",
       "0                                        True                 True  \n",
       "1                                        True                 True  \n",
       "2                                        True                 True  \n",
       "3                                        True                 True  \n",
       "4                                        True                 True  \n",
       "5                                        True                 True  \n",
       "6                                        True                 True  \n",
       "7                                        True                 True  \n",
       "8                                        True                 True  \n",
       "9                                        True                 True  \n",
       "10                                       True                 True  \n",
       "11                                       True                 True  \n",
       "12                                       True                 True  \n",
       "13                                       True                 True  \n",
       "14                                       True                 True  \n",
       "15                                       True                 True  \n",
       "16                                       True                 True  \n",
       "17                                       True                 True  \n",
       "18                                       True                 True  \n",
       "19                                       True                 True  \n",
       "20                                       True                 True  \n",
       "21                                       True                 True  \n",
       "22                                       True                 True  \n",
       "23                                       True                 True  \n",
       "24                                       True                 True  \n",
       "25                                       True                 True  \n",
       "26                                       True                 True  \n",
       "27                                       True                 True  \n",
       "28                                       True                 True  \n",
       "29                                       True                 True  \n",
       "...                                       ...                  ...  \n",
       "1270                                     True                 True  \n",
       "1271                                     True                 True  \n",
       "1272                                     True                 True  \n",
       "1273                                     True                 True  \n",
       "1274                                     True                 True  \n",
       "1275                                     True                 True  \n",
       "1276                                     True                 True  \n",
       "1277                                     True                 True  \n",
       "1278                                     True                 True  \n",
       "1279                                     True                 True  \n",
       "1280                                     True                 True  \n",
       "1281                                     True                 True  \n",
       "1282                                     True                 True  \n",
       "1283                                     True                 True  \n",
       "1284                                     True                 True  \n",
       "1285                                     True                 True  \n",
       "1286                                     True                 True  \n",
       "1287                                     True                 True  \n",
       "1288                                     True                 True  \n",
       "1289                                     True                 True  \n",
       "1290                                     True                 True  \n",
       "1291                                     True                 True  \n",
       "1292                                     True                 True  \n",
       "1293                                     True                 True  \n",
       "1294                                     True                 True  \n",
       "1295                                     True                 True  \n",
       "1296                                     True                 True  \n",
       "1297                                     True                 True  \n",
       "1298                                     True                 True  \n",
       "1299                                     True                 True  \n",
       "\n",
       "[1300 rows x 7 columns]"
      ]
     },
     "execution_count": 13,
     "metadata": {},
     "output_type": "execute_result"
    }
   ],
   "source": [
    "missing_data = df.notnull()\n",
    "missing_data.head(1300)"
   ]
  },
  {
   "cell_type": "code",
   "execution_count": 14,
   "metadata": {},
   "outputs": [
    {
     "name": "stdout",
     "output_type": "stream",
     "text": [
      "Station Name\n",
      "True    1332\n",
      "Name: Station Name, dtype: int64\n",
      "\n",
      "Month\n",
      "True    1332\n",
      "Name: Month, dtype: int64\n",
      "\n",
      "Period\n",
      "True    1332\n",
      "Name: Period, dtype: int64\n",
      "\n",
      "No. of Years\n",
      "True    1332\n",
      "Name: No. of Years, dtype: int64\n",
      "\n",
      "Mean Temperature in degree C - Maximum\n",
      "True    1332\n",
      "Name: Mean Temperature in degree C - Maximum, dtype: int64\n",
      "\n",
      "Mean Temperature  in degree C - Minimum\n",
      "True    1332\n",
      "Name: Mean Temperature  in degree C - Minimum, dtype: int64\n",
      "\n",
      "Mean Rainfall in mm\n",
      "True    1332\n",
      "Name: Mean Rainfall in mm, dtype: int64\n",
      "\n"
     ]
    }
   ],
   "source": [
    "for column in missing_data.columns.values.tolist():\n",
    "    print(column)\n",
    "    print (missing_data[column].value_counts())\n",
    "    print(\"\") "
   ]
  },
  {
   "cell_type": "code",
   "execution_count": 15,
   "metadata": {},
   "outputs": [
    {
     "data": {
      "text/plain": [
       "Station Name                                object\n",
       "Month                                       object\n",
       "Period                                      object\n",
       "No. of Years                                 int64\n",
       "Mean Temperature in degree C - Maximum     float64\n",
       "Mean Temperature  in degree C - Minimum    float64\n",
       "Mean Rainfall in mm                        float64\n",
       "dtype: object"
      ]
     },
     "execution_count": 15,
     "metadata": {},
     "output_type": "execute_result"
    }
   ],
   "source": [
    "df.dtypes"
   ]
  },
  {
   "cell_type": "code",
   "execution_count": 16,
   "metadata": {
    "collapsed": true
   },
   "outputs": [],
   "source": [
    "import matplotlib.pyplot as plt\n",
    "import seaborn as sns\n",
    "%matplotlib inline "
   ]
  },
  {
   "cell_type": "code",
   "execution_count": 17,
   "metadata": {},
   "outputs": [
    {
     "data": {
      "text/html": [
       "<div>\n",
       "<style>\n",
       "    .dataframe thead tr:only-child th {\n",
       "        text-align: right;\n",
       "    }\n",
       "\n",
       "    .dataframe thead th {\n",
       "        text-align: left;\n",
       "    }\n",
       "\n",
       "    .dataframe tbody tr th {\n",
       "        vertical-align: top;\n",
       "    }\n",
       "</style>\n",
       "<table border=\"1\" class=\"dataframe\">\n",
       "  <thead>\n",
       "    <tr style=\"text-align: right;\">\n",
       "      <th></th>\n",
       "      <th>No. of Years</th>\n",
       "      <th>Mean Temperature in degree C - Maximum</th>\n",
       "      <th>Mean Temperature  in degree C - Minimum</th>\n",
       "      <th>Mean Rainfall in mm</th>\n",
       "    </tr>\n",
       "  </thead>\n",
       "  <tbody>\n",
       "    <tr>\n",
       "      <th>No. of Years</th>\n",
       "      <td>1.000000</td>\n",
       "      <td>-0.059247</td>\n",
       "      <td>-0.047205</td>\n",
       "      <td>-0.007545</td>\n",
       "    </tr>\n",
       "    <tr>\n",
       "      <th>Mean Temperature in degree C - Maximum</th>\n",
       "      <td>-0.059247</td>\n",
       "      <td>1.000000</td>\n",
       "      <td>0.824255</td>\n",
       "      <td>-0.112948</td>\n",
       "    </tr>\n",
       "    <tr>\n",
       "      <th>Mean Temperature  in degree C - Minimum</th>\n",
       "      <td>-0.047205</td>\n",
       "      <td>0.824255</td>\n",
       "      <td>1.000000</td>\n",
       "      <td>0.220374</td>\n",
       "    </tr>\n",
       "    <tr>\n",
       "      <th>Mean Rainfall in mm</th>\n",
       "      <td>-0.007545</td>\n",
       "      <td>-0.112948</td>\n",
       "      <td>0.220374</td>\n",
       "      <td>1.000000</td>\n",
       "    </tr>\n",
       "  </tbody>\n",
       "</table>\n",
       "</div>"
      ],
      "text/plain": [
       "                                         No. of Years  \\\n",
       "No. of Years                                 1.000000   \n",
       "Mean Temperature in degree C - Maximum      -0.059247   \n",
       "Mean Temperature  in degree C - Minimum     -0.047205   \n",
       "Mean Rainfall in mm                         -0.007545   \n",
       "\n",
       "                                         Mean Temperature in degree C - Maximum  \\\n",
       "No. of Years                                                          -0.059247   \n",
       "Mean Temperature in degree C - Maximum                                 1.000000   \n",
       "Mean Temperature  in degree C - Minimum                                0.824255   \n",
       "Mean Rainfall in mm                                                   -0.112948   \n",
       "\n",
       "                                         Mean Temperature  in degree C - Minimum  \\\n",
       "No. of Years                                                           -0.047205   \n",
       "Mean Temperature in degree C - Maximum                                  0.824255   \n",
       "Mean Temperature  in degree C - Minimum                                 1.000000   \n",
       "Mean Rainfall in mm                                                     0.220374   \n",
       "\n",
       "                                         Mean Rainfall in mm  \n",
       "No. of Years                                       -0.007545  \n",
       "Mean Temperature in degree C - Maximum             -0.112948  \n",
       "Mean Temperature  in degree C - Minimum             0.220374  \n",
       "Mean Rainfall in mm                                 1.000000  "
      ]
     },
     "execution_count": 17,
     "metadata": {},
     "output_type": "execute_result"
    }
   ],
   "source": [
    "df.corr()"
   ]
  },
  {
   "cell_type": "code",
   "execution_count": 20,
   "metadata": {},
   "outputs": [
    {
     "data": {
      "text/plain": [
       "Index(['Station Name', 'Month', 'Period', 'No. of Years',\n",
       "       'Mean Temperature in degree C - Maximum',\n",
       "       'Mean Temperature  in degree C - Minimum', 'Mean Rainfall in mm'],\n",
       "      dtype='object')"
      ]
     },
     "execution_count": 20,
     "metadata": {},
     "output_type": "execute_result"
    }
   ],
   "source": [
    "df.columns"
   ]
  },
  {
   "cell_type": "code",
   "execution_count": 21,
   "metadata": {},
   "outputs": [
    {
     "data": {
      "text/plain": [
       "(0, 2753.3105182593604)"
      ]
     },
     "execution_count": 21,
     "metadata": {},
     "output_type": "execute_result"
    },
    {
     "data": {
      "image/png": "[encoded data removed]",
      "text/plain": [
       "<matplotlib.figure.Figure at 0x1a15f962b0>"
      ]
     },
     "metadata": {},
     "output_type": "display_data"
    }
   ],
   "source": [
    "sns.regplot(x=\"No. of Years\", y=\"Mean Rainfall in mm\", data=df)\n",
    "plt.ylim(0,)"
   ]
  },
  {
   "cell_type": "code",
   "execution_count": 25,
   "metadata": {},
   "outputs": [
    {
     "data": {
      "text/plain": [
       "Station Name                                object\n",
       "Month                                       object\n",
       "Period                                      object\n",
       "No. of Years                                 int64\n",
       "Mean Temperature in degree C - Maximum     float64\n",
       "Mean Temperature  in degree C - Minimum    float64\n",
       "Mean Rainfall in mm                        float64\n",
       "dtype: object"
      ]
     },
     "execution_count": 25,
     "metadata": {},
     "output_type": "execute_result"
    }
   ],
   "source": [
    "df.dtypes"
   ]
  },
  {
   "cell_type": "code",
   "execution_count": 26,
   "metadata": {},
   "outputs": [
    {
     "data": {
      "text/plain": [
       "(0, 2753.3105182593604)"
      ]
     },
     "execution_count": 26,
     "metadata": {},
     "output_type": "execute_result"
    },
    {
     "data": {
      "image/png": "[encoded data removed]",
      "text/plain": [
       "<matplotlib.figure.Figure at 0x1a15ef21d0>"
      ]
     },
     "metadata": {},
     "output_type": "display_data"
    }
   ],
   "source": [
    "sns.regplot(x=\"Mean Temperature in degree C - Maximum\", y=\"Mean Rainfall in mm\", data=df)\n",
    "plt.ylim(0,)"
   ]
  },
  {
   "cell_type": "code",
   "execution_count": 27,
   "metadata": {},
   "outputs": [
    {
     "data": {
      "text/plain": [
       "(0, 2756.381295365577)"
      ]
     },
     "execution_count": 27,
     "metadata": {},
     "output_type": "execute_result"
    },
    {
     "data": {
      "image/png": "[encoded data removed]",
      "text/plain": [
       "<matplotlib.figure.Figure at 0x1a1e4e2898>"
      ]
     },
     "metadata": {},
     "output_type": "display_data"
    }
   ],
   "source": [
    "sns.regplot(x=\"Mean Temperature  in degree C - Minimum\", y=\"Mean Rainfall in mm\", data=df)\n",
    "plt.ylim(0,)"
   ]
  },
  {
   "cell_type": "code",
   "execution_count": 34,
   "metadata": {},
   "outputs": [
    {
     "data": {
      "text/html": [
       "<div>\n",
       "<style>\n",
       "    .dataframe thead tr:only-child th {\n",
       "        text-align: right;\n",
       "    }\n",
       "\n",
       "    .dataframe thead th {\n",
       "        text-align: left;\n",
       "    }\n",
       "\n",
       "    .dataframe tbody tr th {\n",
       "        vertical-align: top;\n",
       "    }\n",
       "</style>\n",
       "<table border=\"1\" class=\"dataframe\">\n",
       "  <thead>\n",
       "    <tr style=\"text-align: right;\">\n",
       "      <th></th>\n",
       "      <th>No. of Years</th>\n",
       "      <th>Mean Temperature in degree C - Maximum</th>\n",
       "      <th>Mean Temperature  in degree C - Minimum</th>\n",
       "      <th>Mean Rainfall in mm</th>\n",
       "    </tr>\n",
       "  </thead>\n",
       "  <tbody>\n",
       "    <tr>\n",
       "      <th>No. of Years</th>\n",
       "      <td>1.000000</td>\n",
       "      <td>-0.059247</td>\n",
       "      <td>-0.047205</td>\n",
       "      <td>-0.007545</td>\n",
       "    </tr>\n",
       "    <tr>\n",
       "      <th>Mean Temperature in degree C - Maximum</th>\n",
       "      <td>-0.059247</td>\n",
       "      <td>1.000000</td>\n",
       "      <td>0.824255</td>\n",
       "      <td>-0.112948</td>\n",
       "    </tr>\n",
       "    <tr>\n",
       "      <th>Mean Temperature  in degree C - Minimum</th>\n",
       "      <td>-0.047205</td>\n",
       "      <td>0.824255</td>\n",
       "      <td>1.000000</td>\n",
       "      <td>0.220374</td>\n",
       "    </tr>\n",
       "    <tr>\n",
       "      <th>Mean Rainfall in mm</th>\n",
       "      <td>-0.007545</td>\n",
       "      <td>-0.112948</td>\n",
       "      <td>0.220374</td>\n",
       "      <td>1.000000</td>\n",
       "    </tr>\n",
       "  </tbody>\n",
       "</table>\n",
       "</div>"
      ],
      "text/plain": [
       "                                         No. of Years  \\\n",
       "No. of Years                                 1.000000   \n",
       "Mean Temperature in degree C - Maximum      -0.059247   \n",
       "Mean Temperature  in degree C - Minimum     -0.047205   \n",
       "Mean Rainfall in mm                         -0.007545   \n",
       "\n",
       "                                         Mean Temperature in degree C - Maximum  \\\n",
       "No. of Years                                                          -0.059247   \n",
       "Mean Temperature in degree C - Maximum                                 1.000000   \n",
       "Mean Temperature  in degree C - Minimum                                0.824255   \n",
       "Mean Rainfall in mm                                                   -0.112948   \n",
       "\n",
       "                                         Mean Temperature  in degree C - Minimum  \\\n",
       "No. of Years                                                           -0.047205   \n",
       "Mean Temperature in degree C - Maximum                                  0.824255   \n",
       "Mean Temperature  in degree C - Minimum                                 1.000000   \n",
       "Mean Rainfall in mm                                                     0.220374   \n",
       "\n",
       "                                         Mean Rainfall in mm  \n",
       "No. of Years                                       -0.007545  \n",
       "Mean Temperature in degree C - Maximum             -0.112948  \n",
       "Mean Temperature  in degree C - Minimum             0.220374  \n",
       "Mean Rainfall in mm                                 1.000000  "
      ]
     },
     "execution_count": 34,
     "metadata": {},
     "output_type": "execute_result"
    }
   ],
   "source": [
    "df.corr()"
   ]
  },
  {
   "cell_type": "code",
   "execution_count": 38,
   "metadata": {},
   "outputs": [
    {
     "data": {
      "text/html": [
       "<div>\n",
       "<style>\n",
       "    .dataframe thead tr:only-child th {\n",
       "        text-align: right;\n",
       "    }\n",
       "\n",
       "    .dataframe thead th {\n",
       "        text-align: left;\n",
       "    }\n",
       "\n",
       "    .dataframe tbody tr th {\n",
       "        vertical-align: top;\n",
       "    }\n",
       "</style>\n",
       "<table border=\"1\" class=\"dataframe\">\n",
       "  <thead>\n",
       "    <tr style=\"text-align: right;\">\n",
       "      <th></th>\n",
       "      <th>Mean Temperature in degree C - Maximum</th>\n",
       "      <th>Mean Rainfall in mm</th>\n",
       "    </tr>\n",
       "  </thead>\n",
       "  <tbody>\n",
       "    <tr>\n",
       "      <th>Mean Temperature in degree C - Maximum</th>\n",
       "      <td>1.000000</td>\n",
       "      <td>-0.112948</td>\n",
       "    </tr>\n",
       "    <tr>\n",
       "      <th>Mean Rainfall in mm</th>\n",
       "      <td>-0.112948</td>\n",
       "      <td>1.000000</td>\n",
       "    </tr>\n",
       "  </tbody>\n",
       "</table>\n",
       "</div>"
      ],
      "text/plain": [
       "                                        Mean Temperature in degree C - Maximum  \\\n",
       "Mean Temperature in degree C - Maximum                                1.000000   \n",
       "Mean Rainfall in mm                                                  -0.112948   \n",
       "\n",
       "                                        Mean Rainfall in mm  \n",
       "Mean Temperature in degree C - Maximum            -0.112948  \n",
       "Mean Rainfall in mm                                1.000000  "
      ]
     },
     "execution_count": 38,
     "metadata": {},
     "output_type": "execute_result"
    }
   ],
   "source": [
    "df[['Mean Temperature in degree C - Maximum','Mean Rainfall in mm']].corr()"
   ]
  },
  {
   "cell_type": "code",
   "execution_count": 46,
   "metadata": {},
   "outputs": [
    {
     "data": {
      "text/html": [
       "<div>\n",
       "<style>\n",
       "    .dataframe thead tr:only-child th {\n",
       "        text-align: right;\n",
       "    }\n",
       "\n",
       "    .dataframe thead th {\n",
       "        text-align: left;\n",
       "    }\n",
       "\n",
       "    .dataframe tbody tr th {\n",
       "        vertical-align: top;\n",
       "    }\n",
       "</style>\n",
       "<table border=\"1\" class=\"dataframe\">\n",
       "  <thead>\n",
       "    <tr style=\"text-align: right;\">\n",
       "      <th></th>\n",
       "      <th>Mean Temperature  in degree C - Minimum</th>\n",
       "      <th>Mean Rainfall in mm</th>\n",
       "    </tr>\n",
       "  </thead>\n",
       "  <tbody>\n",
       "    <tr>\n",
       "      <th>Mean Temperature  in degree C - Minimum</th>\n",
       "      <td>1.000000</td>\n",
       "      <td>0.220374</td>\n",
       "    </tr>\n",
       "    <tr>\n",
       "      <th>Mean Rainfall in mm</th>\n",
       "      <td>0.220374</td>\n",
       "      <td>1.000000</td>\n",
       "    </tr>\n",
       "  </tbody>\n",
       "</table>\n",
       "</div>"
      ],
      "text/plain": [
       "                                         Mean Temperature  in degree C - Minimum  \\\n",
       "Mean Temperature  in degree C - Minimum                                 1.000000   \n",
       "Mean Rainfall in mm                                                     0.220374   \n",
       "\n",
       "                                         Mean Rainfall in mm  \n",
       "Mean Temperature  in degree C - Minimum             0.220374  \n",
       "Mean Rainfall in mm                                 1.000000  "
      ]
     },
     "execution_count": 46,
     "metadata": {},
     "output_type": "execute_result"
    }
   ],
   "source": [
    "df[['Mean Temperature  in degree C - Minimum','Mean Rainfall in mm']].corr()"
   ]
  },
  {
   "cell_type": "code",
   "execution_count": 47,
   "metadata": {},
   "outputs": [
    {
     "data": {
      "text/plain": [
       "<matplotlib.axes._subplots.AxesSubplot at 0x1a1ec45f98>"
      ]
     },
     "execution_count": 47,
     "metadata": {},
     "output_type": "execute_result"
    },
    {
     "data": {
      "image/png": "[encoded data removed]",
      "text/plain": [
       "<matplotlib.figure.Figure at 0x1a1ebb2c88>"
      ]
     },
     "metadata": {},
     "output_type": "display_data"
    }
   ],
   "source": [
    "sns.regplot(x=\"Mean Temperature in degree C - Maximum\", y=\"Mean Rainfall in mm\", data=df)"
   ]
  },
  {
   "cell_type": "code",
   "execution_count": 48,
   "metadata": {},
   "outputs": [
    {
     "data": {
      "text/plain": [
       "<matplotlib.axes._subplots.AxesSubplot at 0x1a1ee2a3c8>"
      ]
     },
     "execution_count": 48,
     "metadata": {},
     "output_type": "execute_result"
    },
    {
     "data": {
      "image/png": "[encoded data removed]",
      "text/plain": [
       "<matplotlib.figure.Figure at 0x1a1ee7f630>"
      ]
     },
     "metadata": {},
     "output_type": "display_data"
    }
   ],
   "source": [
    "sns.regplot(x=\"Mean Temperature  in degree C - Minimum\", y=\"Mean Rainfall in mm\", data=df)"
   ]
  },
  {
   "cell_type": "code",
   "execution_count": 55,
   "metadata": {},
   "outputs": [
    {
     "data": {
      "text/html": [
       "<div>\n",
       "<style>\n",
       "    .dataframe thead tr:only-child th {\n",
       "        text-align: right;\n",
       "    }\n",
       "\n",
       "    .dataframe thead th {\n",
       "        text-align: left;\n",
       "    }\n",
       "\n",
       "    .dataframe tbody tr th {\n",
       "        vertical-align: top;\n",
       "    }\n",
       "</style>\n",
       "<table border=\"1\" class=\"dataframe\">\n",
       "  <thead>\n",
       "    <tr style=\"text-align: right;\">\n",
       "      <th></th>\n",
       "      <th>Station Name</th>\n",
       "      <th>Month</th>\n",
       "      <th>Period</th>\n",
       "    </tr>\n",
       "  </thead>\n",
       "  <tbody>\n",
       "    <tr>\n",
       "      <th>count</th>\n",
       "      <td>1332</td>\n",
       "      <td>1332</td>\n",
       "      <td>1332</td>\n",
       "    </tr>\n",
       "    <tr>\n",
       "      <th>unique</th>\n",
       "      <td>111</td>\n",
       "      <td>12</td>\n",
       "      <td>46</td>\n",
       "    </tr>\n",
       "    <tr>\n",
       "      <th>top</th>\n",
       "      <td>Jamshedpur</td>\n",
       "      <td>October</td>\n",
       "      <td>1901-2000</td>\n",
       "    </tr>\n",
       "    <tr>\n",
       "      <th>freq</th>\n",
       "      <td>12</td>\n",
       "      <td>111</td>\n",
       "      <td>456</td>\n",
       "    </tr>\n",
       "  </tbody>\n",
       "</table>\n",
       "</div>"
      ],
      "text/plain": [
       "       Station Name    Month     Period\n",
       "count          1332     1332       1332\n",
       "unique          111       12         46\n",
       "top      Jamshedpur  October  1901-2000\n",
       "freq             12      111        456"
      ]
     },
     "execution_count": 55,
     "metadata": {},
     "output_type": "execute_result"
    }
   ],
   "source": [
    "df.describe(include=['object'])"
   ]
  },
  {
   "cell_type": "code",
   "execution_count": 56,
   "metadata": {},
   "outputs": [
    {
     "data": {
      "text/html": [
       "<div>\n",
       "<style>\n",
       "    .dataframe thead tr:only-child th {\n",
       "        text-align: right;\n",
       "    }\n",
       "\n",
       "    .dataframe thead th {\n",
       "        text-align: left;\n",
       "    }\n",
       "\n",
       "    .dataframe tbody tr th {\n",
       "        vertical-align: top;\n",
       "    }\n",
       "</style>\n",
       "<table border=\"1\" class=\"dataframe\">\n",
       "  <thead>\n",
       "    <tr style=\"text-align: right;\">\n",
       "      <th></th>\n",
       "      <th>Station Name</th>\n",
       "      <th>Month</th>\n",
       "      <th>Period</th>\n",
       "      <th>No. of Years</th>\n",
       "      <th>Mean Temperature in degree C - Maximum</th>\n",
       "      <th>Mean Temperature  in degree C - Minimum</th>\n",
       "      <th>Mean Rainfall in mm</th>\n",
       "    </tr>\n",
       "  </thead>\n",
       "  <tbody>\n",
       "    <tr>\n",
       "      <th>count</th>\n",
       "      <td>1332</td>\n",
       "      <td>1332</td>\n",
       "      <td>1332</td>\n",
       "      <td>1332.000000</td>\n",
       "      <td>1332.000000</td>\n",
       "      <td>1332.000000</td>\n",
       "      <td>1332.000000</td>\n",
       "    </tr>\n",
       "    <tr>\n",
       "      <th>unique</th>\n",
       "      <td>111</td>\n",
       "      <td>12</td>\n",
       "      <td>46</td>\n",
       "      <td>NaN</td>\n",
       "      <td>NaN</td>\n",
       "      <td>NaN</td>\n",
       "      <td>NaN</td>\n",
       "    </tr>\n",
       "    <tr>\n",
       "      <th>top</th>\n",
       "      <td>Jamshedpur</td>\n",
       "      <td>October</td>\n",
       "      <td>1901-2000</td>\n",
       "      <td>NaN</td>\n",
       "      <td>NaN</td>\n",
       "      <td>NaN</td>\n",
       "      <td>NaN</td>\n",
       "    </tr>\n",
       "    <tr>\n",
       "      <th>freq</th>\n",
       "      <td>12</td>\n",
       "      <td>111</td>\n",
       "      <td>456</td>\n",
       "      <td>NaN</td>\n",
       "      <td>NaN</td>\n",
       "      <td>NaN</td>\n",
       "      <td>NaN</td>\n",
       "    </tr>\n",
       "    <tr>\n",
       "      <th>mean</th>\n",
       "      <td>NaN</td>\n",
       "      <td>NaN</td>\n",
       "      <td>NaN</td>\n",
       "      <td>64.378378</td>\n",
       "      <td>29.904129</td>\n",
       "      <td>18.823198</td>\n",
       "      <td>126.102177</td>\n",
       "    </tr>\n",
       "    <tr>\n",
       "      <th>std</th>\n",
       "      <td>NaN</td>\n",
       "      <td>NaN</td>\n",
       "      <td>NaN</td>\n",
       "      <td>29.160162</td>\n",
       "      <td>6.087324</td>\n",
       "      <td>6.461108</td>\n",
       "      <td>210.642750</td>\n",
       "    </tr>\n",
       "    <tr>\n",
       "      <th>min</th>\n",
       "      <td>NaN</td>\n",
       "      <td>NaN</td>\n",
       "      <td>NaN</td>\n",
       "      <td>5.000000</td>\n",
       "      <td>5.000000</td>\n",
       "      <td>-2.300000</td>\n",
       "      <td>0.000000</td>\n",
       "    </tr>\n",
       "    <tr>\n",
       "      <th>25%</th>\n",
       "      <td>NaN</td>\n",
       "      <td>NaN</td>\n",
       "      <td>NaN</td>\n",
       "      <td>43.000000</td>\n",
       "      <td>26.800000</td>\n",
       "      <td>13.975000</td>\n",
       "      <td>13.200000</td>\n",
       "    </tr>\n",
       "    <tr>\n",
       "      <th>50%</th>\n",
       "      <td>NaN</td>\n",
       "      <td>NaN</td>\n",
       "      <td>NaN</td>\n",
       "      <td>53.000000</td>\n",
       "      <td>30.700000</td>\n",
       "      <td>20.600000</td>\n",
       "      <td>51.150000</td>\n",
       "    </tr>\n",
       "    <tr>\n",
       "      <th>75%</th>\n",
       "      <td>NaN</td>\n",
       "      <td>NaN</td>\n",
       "      <td>NaN</td>\n",
       "      <td>98.000000</td>\n",
       "      <td>33.400000</td>\n",
       "      <td>24.300000</td>\n",
       "      <td>167.800000</td>\n",
       "    </tr>\n",
       "    <tr>\n",
       "      <th>max</th>\n",
       "      <td>NaN</td>\n",
       "      <td>NaN</td>\n",
       "      <td>NaN</td>\n",
       "      <td>100.000000</td>\n",
       "      <td>42.700000</td>\n",
       "      <td>29.300000</td>\n",
       "      <td>2622.000000</td>\n",
       "    </tr>\n",
       "  </tbody>\n",
       "</table>\n",
       "</div>"
      ],
      "text/plain": [
       "       Station Name    Month     Period  No. of Years  \\\n",
       "count          1332     1332       1332   1332.000000   \n",
       "unique          111       12         46           NaN   \n",
       "top      Jamshedpur  October  1901-2000           NaN   \n",
       "freq             12      111        456           NaN   \n",
       "mean            NaN      NaN        NaN     64.378378   \n",
       "std             NaN      NaN        NaN     29.160162   \n",
       "min             NaN      NaN        NaN      5.000000   \n",
       "25%             NaN      NaN        NaN     43.000000   \n",
       "50%             NaN      NaN        NaN     53.000000   \n",
       "75%             NaN      NaN        NaN     98.000000   \n",
       "max             NaN      NaN        NaN    100.000000   \n",
       "\n",
       "        Mean Temperature in degree C - Maximum  \\\n",
       "count                              1332.000000   \n",
       "unique                                     NaN   \n",
       "top                                        NaN   \n",
       "freq                                       NaN   \n",
       "mean                                 29.904129   \n",
       "std                                   6.087324   \n",
       "min                                   5.000000   \n",
       "25%                                  26.800000   \n",
       "50%                                  30.700000   \n",
       "75%                                  33.400000   \n",
       "max                                  42.700000   \n",
       "\n",
       "        Mean Temperature  in degree C - Minimum  Mean Rainfall in mm  \n",
       "count                               1332.000000          1332.000000  \n",
       "unique                                      NaN                  NaN  \n",
       "top                                         NaN                  NaN  \n",
       "freq                                        NaN                  NaN  \n",
       "mean                                  18.823198           126.102177  \n",
       "std                                    6.461108           210.642750  \n",
       "min                                   -2.300000             0.000000  \n",
       "25%                                   13.975000            13.200000  \n",
       "50%                                   20.600000            51.150000  \n",
       "75%                                   24.300000           167.800000  \n",
       "max                                   29.300000          2622.000000  "
      ]
     },
     "execution_count": 56,
     "metadata": {},
     "output_type": "execute_result"
    }
   ],
   "source": [
    "df.describe(include='all')"
   ]
  },
  {
   "cell_type": "code",
   "execution_count": 57,
   "metadata": {},
   "outputs": [
    {
     "data": {
      "text/plain": [
       "Index(['Station Name', 'Month', 'Period', 'No. of Years',\n",
       "       'Mean Temperature in degree C - Maximum',\n",
       "       'Mean Temperature  in degree C - Minimum', 'Mean Rainfall in mm'],\n",
       "      dtype='object')"
      ]
     },
     "execution_count": 57,
     "metadata": {},
     "output_type": "execute_result"
    }
   ],
   "source": [
    "df.columns"
   ]
  },
  {
   "cell_type": "code",
   "execution_count": 61,
   "metadata": {},
   "outputs": [
    {
     "data": {
      "text/plain": [
       "Jamshedpur               12\n",
       "Cooch Behar              12\n",
       "Shimla                   12\n",
       "Bhatinda                 12\n",
       "Coimbatore (Pilamedu)    12\n",
       "Bhagalpur                12\n",
       "Mahabaleshwar            12\n",
       "Indore                   12\n",
       "Gangtok                  12\n",
       "Jharsuguda               12\n",
       "Jaipur (Sanganer)        12\n",
       "Belgaum Samra            12\n",
       "Akola (A)                12\n",
       "Mukteswar (Kumaun)       12\n",
       "Balasore                 12\n",
       "Varanasi (Babatpur)      12\n",
       "Shillong                 12\n",
       "Patna (A)                12\n",
       "Bikaner                  12\n",
       "Jabalpur                 12\n",
       "Cherrapunji              12\n",
       "Sri Niketan              12\n",
       "Parbhani                 12\n",
       "Dharmsala                12\n",
       "Gulbarga                 12\n",
       "Bangalore                12\n",
       "Kolkata (Alipur)         12\n",
       "Guwahati (Bhorjar)       12\n",
       "Jodhpur                  12\n",
       "Gaya                     12\n",
       "                         ..\n",
       "Mangalore (Bajpe)        12\n",
       "Imphal/Tulihal           12\n",
       "Kanpur (A)               12\n",
       "Pondicherry (A)          12\n",
       "Silchar                  12\n",
       "Raipur                   12\n",
       "Malda                    12\n",
       "Gadag                    12\n",
       "Ahmedabad                12\n",
       "Ranchi (A)               12\n",
       "Jaisalmer                12\n",
       "Port Blair               12\n",
       "Pune                     12\n",
       "Chandigarh               12\n",
       "Pasighat                 12\n",
       "Hyderabad (A)            12\n",
       "Dibrugarh/Mohanbari      12\n",
       "Rajkot (A)               12\n",
       "Kodaikanal               12\n",
       "Amini Divi               12\n",
       "Gorakhpur                12\n",
       "Gopalpur                 12\n",
       "Joshimath                12\n",
       "Madurai (A)              12\n",
       "Jammu                    12\n",
       "Amritsar (Rajasansi)     12\n",
       "Bareilly                 12\n",
       "Sambalpur                12\n",
       "Solapur                  12\n",
       "Jagdalpur                12\n",
       "Name: Station Name, Length: 111, dtype: int64"
      ]
     },
     "execution_count": 61,
     "metadata": {},
     "output_type": "execute_result"
    }
   ],
   "source": [
    "df['Mean Rainfall in mm'].value_counts()"
   ]
  },
  {
   "cell_type": "code",
   "execution_count": 59,
   "metadata": {},
   "outputs": [
    {
     "data": {
      "text/plain": [
       "October      111\n",
       "September    111\n",
       "July         111\n",
       "June         111\n",
       "May          111\n",
       "March        111\n",
       "August       111\n",
       "April        111\n",
       "February     111\n",
       "November     111\n",
       "December     111\n",
       "January      111\n",
       "Name: Month, dtype: int64"
      ]
     },
     "execution_count": 59,
     "metadata": {},
     "output_type": "execute_result"
    }
   ],
   "source": [
    "df['Month'].value_counts()"
   ]
  },
  {
   "cell_type": "code",
   "execution_count": 62,
   "metadata": {},
   "outputs": [
    {
     "data": {
      "text/plain": [
       "1901-2000    456\n",
       "1952-2000     96\n",
       "1951-2000     96\n",
       "1961-2000     48\n",
       "1901-1999     36\n",
       "1948-2000     36\n",
       "1996-2000     24\n",
       "1949-2000     24\n",
       "1902-2000     24\n",
       "1953-2000     24\n",
       "1932-2000     24\n",
       "1956-2000     24\n",
       "1968-2000     24\n",
       "1944-2000     12\n",
       "1943-2000     12\n",
       "1970-1999     12\n",
       "1970-2000     12\n",
       "1901-1998     12\n",
       "1958-2000     12\n",
       "1966-2000     12\n",
       "1937-1992     12\n",
       "1959-1984     12\n",
       "1954-1977     12\n",
       "1952-1992     12\n",
       "1981-2000     12\n",
       "1901-1995     12\n",
       "1925-2000     12\n",
       "1953-1998     12\n",
       "1965-1979     12\n",
       "1953-1979     12\n",
       "1905-2000     12\n",
       "1978-2000     12\n",
       "1951-1999     12\n",
       "1949-1990     12\n",
       "1958-1987     12\n",
       "1901-1992     12\n",
       "1901-1984     12\n",
       "1957-1992     12\n",
       "1914-2000     12\n",
       "1949-1999     12\n",
       "1965-2000     12\n",
       "1909-2000     12\n",
       "1946-2000     12\n",
       "1978-1993     12\n",
       "1951-1998     12\n",
       "1950-1985     12\n",
       "Name: Period, dtype: int64"
      ]
     },
     "execution_count": 62,
     "metadata": {},
     "output_type": "execute_result"
    }
   ],
   "source": [
    "df['Period'].value_counts()"
   ]
  },
  {
   "cell_type": "code",
   "execution_count": 63,
   "metadata": {},
   "outputs": [
    {
     "data": {
      "text/plain": [
       "(array([  84.,  504.,   72.,   72.,   72.,  216.,   84.,   84.,   72.,   72.]),\n",
       " array([  0. ,   4.5,   9. ,  13.5,  18. ,  22.5,  27. ,  31.5,  36. ,\n",
       "         40.5,  45. ]),\n",
       " <a list of 10 Patch objects>)"
      ]
     },
     "execution_count": 63,
     "metadata": {},
     "output_type": "execute_result"
    },
    {
     "data": {
      "image/png": "[encoded data removed]",
      "text/plain": [
       "<matplotlib.figure.Figure at 0x1a1ee31a90>"
      ]
     },
     "metadata": {},
     "output_type": "display_data"
    }
   ],
   "source": [
    "%matplotlib inline\n",
    "import matplotlib as plt\n",
    "from matplotlib import pyplot\n",
    "plt.pyplot.hist(df[\"Period\"])"
   ]
  },
  {
   "cell_type": "code",
   "execution_count": 64,
   "metadata": {},
   "outputs": [
    {
     "data": {
      "text/plain": [
       "100    240\n",
       "49      96\n",
       "97      84\n",
       "50      84\n",
       "40      48\n",
       "43      48\n",
       "98      48\n",
       "99      48\n",
       "48      36\n",
       "35      36\n",
       "84      36\n",
       "45      36\n",
       "53      24\n",
       "14      24\n",
       "24      24\n",
       "29      24\n",
       "36      24\n",
       "47      24\n",
       "52      24\n",
       "5       24\n",
       "69      24\n",
       "87      24\n",
       "55      12\n",
       "32      12\n",
       "11      12\n",
       "92      12\n",
       "20      12\n",
       "22      12\n",
       "90      12\n",
       "27      12\n",
       "89      12\n",
       "30      12\n",
       "34      12\n",
       "33      12\n",
       "56      12\n",
       "78      12\n",
       "39      12\n",
       "62      12\n",
       "61      12\n",
       "58      12\n",
       "95      12\n",
       "57      12\n",
       "96      12\n",
       "Name: No. of Years, dtype: int64"
      ]
     },
     "execution_count": 64,
     "metadata": {},
     "output_type": "execute_result"
    }
   ],
   "source": [
    "df['No. of Years'].value_counts()"
   ]
  },
  {
   "cell_type": "code",
   "execution_count": 65,
   "metadata": {},
   "outputs": [
    {
     "data": {
      "text/plain": [
       "31.7    23\n",
       "30.5    18\n",
       "31.8    17\n",
       "32.8    16\n",
       "32.6    16\n",
       "30.3    16\n",
       "31.3    16\n",
       "29.6    15\n",
       "32.0    15\n",
       "30.7    14\n",
       "29.3    13\n",
       "29.1    13\n",
       "33.1    13\n",
       "29.4    13\n",
       "32.3    13\n",
       "29.2    13\n",
       "33.0    13\n",
       "32.9    13\n",
       "30.1    13\n",
       "32.1    12\n",
       "32.4    12\n",
       "28.8    12\n",
       "29.9    12\n",
       "32.5    12\n",
       "31.1    12\n",
       "30.2    12\n",
       "31.2    12\n",
       "31.0    12\n",
       "33.5    11\n",
       "30.0    11\n",
       "        ..\n",
       "17.8     1\n",
       "18.1     1\n",
       "26.6     1\n",
       "14.8     1\n",
       "16.6     1\n",
       "19.8     1\n",
       "13.9     1\n",
       "34.9     1\n",
       "15.8     1\n",
       "12.3     1\n",
       "12.6     1\n",
       "17.5     1\n",
       "23.1     1\n",
       "38.0     1\n",
       "10.5     1\n",
       "17.0     1\n",
       "19.0     1\n",
       "42.1     1\n",
       "13.5     1\n",
       "8.5      1\n",
       "21.1     1\n",
       "9.4      1\n",
       "15.3     1\n",
       "10.6     1\n",
       "8.6      1\n",
       "10.4     1\n",
       "41.2     1\n",
       "26.3     1\n",
       "41.9     1\n",
       "5.0      1\n",
       "Name: Mean Temperature in degree C - Maximum, Length: 281, dtype: int64"
      ]
     },
     "execution_count": 65,
     "metadata": {},
     "output_type": "execute_result"
    }
   ],
   "source": [
    "df['Mean Temperature in degree C - Maximum'].value_counts()"
   ]
  },
  {
   "cell_type": "code",
   "execution_count": 67,
   "metadata": {},
   "outputs": [
    {
     "data": {
      "text/plain": [
       " 25.0    19\n",
       " 25.1    16\n",
       " 26.1    16\n",
       " 26.2    16\n",
       " 25.8    15\n",
       " 23.0    15\n",
       " 25.3    15\n",
       " 24.9    15\n",
       " 24.3    14\n",
       " 24.7    13\n",
       " 24.8    13\n",
       " 21.8    13\n",
       " 23.6    12\n",
       " 23.8    12\n",
       " 22.2    12\n",
       " 23.7    11\n",
       " 24.0    11\n",
       " 25.6    11\n",
       " 24.4    11\n",
       " 26.4    11\n",
       " 25.5    11\n",
       " 22.5    11\n",
       " 23.1    11\n",
       " 23.2    11\n",
       " 23.3    11\n",
       " 26.0    11\n",
       " 25.2    11\n",
       " 26.3    11\n",
       " 22.6    10\n",
       " 17.7    10\n",
       "         ..\n",
       " 28.1     1\n",
       " 6.9      1\n",
       " 3.9      1\n",
       "-1.7      1\n",
       " 4.7      1\n",
       " 6.1      1\n",
       " 0.3      1\n",
       " 2.7      1\n",
       " 14.7     1\n",
       " 28.2     1\n",
       " 4.4      1\n",
       " 28.3     1\n",
       " 2.9      1\n",
       " 1.6      1\n",
       " 1.7      1\n",
       "-2.3      1\n",
       " 5.2      1\n",
       "-2.0      1\n",
       " 4.3      1\n",
       " 3.5      1\n",
       " 3.1      1\n",
       " 9.5      1\n",
       " 1.5      1\n",
       " 4.0      1\n",
       " 29.0     1\n",
       " 5.5      1\n",
       " 3.3      1\n",
       " 6.0      1\n",
       " 17.9     1\n",
       " 28.9     1\n",
       "Name: Mean Temperature  in degree C - Minimum, Length: 266, dtype: int64"
      ]
     },
     "execution_count": 67,
     "metadata": {},
     "output_type": "execute_result"
    }
   ],
   "source": [
    "df['Mean Temperature  in degree C - Minimum'].value_counts()"
   ]
  },
  {
   "cell_type": "code",
   "execution_count": 68,
   "metadata": {},
   "outputs": [
    {
     "data": {
      "text/plain": [
       "7.9      9\n",
       "2.4      8\n",
       "6.1      7\n",
       "1.0      7\n",
       "10.2     6\n",
       "10.0     6\n",
       "17.6     6\n",
       "4.8      6\n",
       "1.1      5\n",
       "8.6      5\n",
       "11.7     5\n",
       "19.7     5\n",
       "9.7      5\n",
       "4.4      5\n",
       "7.8      5\n",
       "2.1      5\n",
       "6.5      5\n",
       "13.2     5\n",
       "8.8      5\n",
       "11.4     5\n",
       "3.9      5\n",
       "18.0     4\n",
       "6.7      4\n",
       "1.6      4\n",
       "6.2      4\n",
       "5.0      4\n",
       "4.0      4\n",
       "1.5      4\n",
       "15.2     4\n",
       "8.9      4\n",
       "        ..\n",
       "146.6    1\n",
       "86.7     1\n",
       "35.6     1\n",
       "276.3    1\n",
       "124.6    1\n",
       "97.7     1\n",
       "151.7    1\n",
       "284.6    1\n",
       "42.9     1\n",
       "149.9    1\n",
       "190.8    1\n",
       "138.8    1\n",
       "196.6    1\n",
       "20.3     1\n",
       "684.1    1\n",
       "167.3    1\n",
       "141.4    1\n",
       "440.8    1\n",
       "365.4    1\n",
       "178.7    1\n",
       "486.1    1\n",
       "53.4     1\n",
       "379.5    1\n",
       "143.2    1\n",
       "317.5    1\n",
       "546.8    1\n",
       "264.5    1\n",
       "299.4    1\n",
       "13.7     1\n",
       "65.3     1\n",
       "Name: Mean Rainfall in mm, Length: 931, dtype: int64"
      ]
     },
     "execution_count": 68,
     "metadata": {},
     "output_type": "execute_result"
    }
   ],
   "source": [
    "df['Mean Rainfall in mm'].value_counts()"
   ]
  },
  {
   "cell_type": "code",
   "execution_count": 69,
   "metadata": {},
   "outputs": [
    {
     "data": {
      "text/plain": [
       "Index(['Station Name', 'Month', 'Period', 'No. of Years',\n",
       "       'Mean Temperature in degree C - Maximum',\n",
       "       'Mean Temperature  in degree C - Minimum', 'Mean Rainfall in mm'],\n",
       "      dtype='object')"
      ]
     },
     "execution_count": 69,
     "metadata": {},
     "output_type": "execute_result"
    }
   ],
   "source": [
    "df.columns"
   ]
  },
  {
   "cell_type": "code",
   "execution_count": 70,
   "metadata": {},
   "outputs": [
    {
     "data": {
      "text/plain": [
       "array(['Abu', 'Agartala (A)', 'Agra', 'Ahmedabad', 'Aijal/Aizwal', 'Ajmer',\n",
       "       'Akola (A)', 'Allahabad', 'Ambikapur', 'Amini Divi',\n",
       "       'Amritsar (Rajasansi)', 'Anantpur', 'Androth', 'Aurangabad',\n",
       "       'Balasore', 'Bangalore', 'Bareilly', 'Baroda (A)', 'Belgaum Samra',\n",
       "       'Bhagalpur', 'Bhatinda', 'Bhopal (Bairagarh)', 'Bhubaneshwar (A)',\n",
       "       'Bhuj (Rudramata)', 'Bikaner', 'Cannanore', 'Chandigarh',\n",
       "       'Chennai (Minambakkam)', 'Cherrapunji', 'Coimbatore (Pilamedu)',\n",
       "       'Cooch Behar', 'Darjeeling', 'Dehra Dun', 'Dharmsala',\n",
       "       'Dibrugarh/Mohanbari', 'Gadag', 'Gangtok', 'Gaya', 'Gopalpur',\n",
       "       'Gorakhpur', 'Gulbarga', 'Guwahati (Bhorjar)', 'Gwalior', 'Hassan',\n",
       "       'Hissar', 'Hyderabad (A)', 'Imphal/Tulihal', 'Indore', 'Jabalpur',\n",
       "       'Jagdalpur', 'Jaipur (Sanganer)', 'Jaisalmer', 'Jammu',\n",
       "       'Jamshedpur', 'Jharsuguda', 'Jodhpur', 'Joshimath', 'Jullundur',\n",
       "       'Kanpur (A)', 'Kanyakumari', 'Karnal', 'Khajuraho', 'Kodaikanal',\n",
       "       'Kohima', 'Kolkata (Alipur)', 'Kota (A)', 'Kozhikode (A)',\n",
       "       'Lucknow (Amausi)', 'Ludhiana', 'Madurai (A)', 'Mahabaleshwar',\n",
       "       'Malda', 'Manali', 'Mangalore (Bajpe)', 'Masulipatnam', 'Minicoy',\n",
       "       'Mukteswar (Kumaun)', 'Mumbai (Santa Cruz)', 'Mysore',\n",
       "       'Nagpur (Sonegaon)', 'Nainital', 'Nasik', 'New Delhi (Palam)',\n",
       "       'New Delhi (SFD)', 'Palakkad (Palghat)', 'Panjim', 'Parbhani',\n",
       "       'Pasighat', 'Patna (A)', 'Pondicherry (A)', 'Port Blair', 'Pune',\n",
       "       'Raipur', 'Rajkot (A)', 'Ranchi (A)', 'Sambalpur', 'Shillong',\n",
       "       'Shimla', 'Silchar', 'Solapur', 'Sri Niketan', 'Srinagar', 'Surat',\n",
       "       'Thiruvananthapuram', 'Tirupathy', 'Tura', 'Udaipur (Dabok)',\n",
       "       'Uthagamandalam', 'Varanasi (Babatpur)', 'Vijayawada',\n",
       "       'Vishakhapatnam'], dtype=object)"
      ]
     },
     "execution_count": 70,
     "metadata": {},
     "output_type": "execute_result"
    }
   ],
   "source": [
    "df['Station Name'].unique()"
   ]
  },
  {
   "cell_type": "code",
   "execution_count": 71,
   "metadata": {},
   "outputs": [
    {
     "data": {
      "text/plain": [
       "array(['January', 'February', 'March', 'April', 'May', 'June', 'July',\n",
       "       'August', 'September', 'October', 'November', 'December'], dtype=object)"
      ]
     },
     "execution_count": 71,
     "metadata": {},
     "output_type": "execute_result"
    }
   ],
   "source": [
    "df['Month'].unique()"
   ]
  },
  {
   "cell_type": "code",
   "execution_count": 72,
   "metadata": {},
   "outputs": [
    {
     "data": {
      "text/plain": [
       "array(['1901-2000', '1953-2000', '1937-1992', '1961-2000', '1951-2000',\n",
       "       '1948-2000', '1946-2000', '1965-1979', '1952-2000', '1901-1999',\n",
       "       '1959-1984', '1949-2000', '1978-2000', '1954-1977', '1902-2000',\n",
       "       '1951-1998', '1932-2000', '1966-2000', '1914-2000', '1953-1998',\n",
       "       '1909-2000', '1925-2000', '1951-1999', '1958-1987', '1970-1999',\n",
       "       '1901-1995', '1949-1999', '1970-2000', '1952-1992', '1996-2000',\n",
       "       '1901-1984', '1958-2000', '1968-2000', '1956-2000', '1953-1979',\n",
       "       '1949-1990', '1943-2000', '1944-2000', '1957-1992', '1901-1998',\n",
       "       '1905-2000', '1901-1992', '1981-2000', '1950-1985', '1965-2000',\n",
       "       '1978-1993'], dtype=object)"
      ]
     },
     "execution_count": 72,
     "metadata": {},
     "output_type": "execute_result"
    }
   ],
   "source": [
    "df['Period'].unique()"
   ]
  },
  {
   "cell_type": "code",
   "execution_count": 78,
   "metadata": {},
   "outputs": [
    {
     "data": {
      "text/plain": [
       "array([ 19.3,  21. ,  25.3,  29.4,  31.5,  29.1,  24.5,  22.7,  26.7,\n",
       "        23.8,  20.9,  25.6,  28.3,  32.5,  33.7,  32.8,  31.8,  31.4,\n",
       "        31.7,  31.1,  29.2,  26.4,  22.3,  25.5,  31.9,  37.9,  41.7,\n",
       "        40.7,  35.3,  33.2,  34. ,  23.9,  28.7,  31. ,  35.9,  39.5,\n",
       "        41.4,  38.5,  33.5,  32. ,  35.8,  29.9,  20.4,  21.7,  25.2,\n",
       "        26.8,  26.3,  25.7,  24.7,  23. ,  22.9,  31.3,  36.5,  39.7,\n",
       "        38.4,  33.6,  32.6,  37.3,  40.9,  42.5,  37.6,  32.4,  30.6,\n",
       "        34.1,  29.5,  23.5,  33.4,  39.1,  41.8,  39.8,  33. ,  24.6,\n",
       "        36.8,  39.4,  35.5,  29.7,  29.3,  29.8,  26.5,  31.2,  33.3,\n",
       "        30.4,  29.6,  30. ,  30.5,  19.2,  21.9,  26.9,  33.9,  38.8,\n",
       "        34.3,  34.4,  32.3,  27. ,  21.3,  37.1,  38.9,  35.4,  30.1,\n",
       "        30.3,  30.9,  32.2,  33.1,  30.7,  29. ,  35.6,  34.7,  28.4,\n",
       "        36. ,  36.1,  34.2,  27.4,  27.7,  27.6,  28.1,  27.9,  26.2,\n",
       "        21.6,  24. ,  39.9,  38.6,  28. ,  23.2,  36.2,  39.2,  40.1,\n",
       "        34.6,  25.8,  28.6,  28.2,  24.2,  27.2,  37.5,  20.5,  22.8,\n",
       "        35.7,  40. ,  36.9,  38.3,  37.2,  28.9,  26. ,  28.5,  31.6,\n",
       "        35.1,  35.2,  30.2,  27.1,  39.6,  36.4,  32.7,  22.6,  37.7,\n",
       "        36.7,  23.1,  34.5,  27.3,  22.1,  28.8,  37.4,  15.7,  17.1,\n",
       "        22.4,  22.5,  20.1,  32.9,  30.8,  23.7,   9.4,  10.4,  14.4,\n",
       "        17.4,  18.5,  19.4,  19.6,  18. ,  14.7,  11.5,  21.5,  32.1,\n",
       "        34.8,  25. ,  21.1,  14.8,  16.7,  26.1,  24.9,  16.9,  36.3,\n",
       "        12.6,  14.1,  18.3,  22.2,  22. ,  21.8,  17.8,  40.8,  38.1,\n",
       "        24.8,  25.9,  38.7,  24.4,  40.3,  23.6,  42. ,  25.4,  27.5,\n",
       "        41. ,  41.2,  39. ,  23.3,  40.2,  41.3,  34.9,  37. ,  38.2,\n",
       "        41.6,  18.6,  27.8,  35. ,  11.4,  12.4,  17.6,  24.1,  20.6,\n",
       "        16.8,  13.6,  19.9,  24.3,  33.8,  42.7,  17.5,  18.9,  17.7,\n",
       "        17.9,  18.1,  16.4,  16.6,  23.4,  42.1,  38. ,  19.7,  25.1,\n",
       "        10.6,  11.7,  16.1,  18.4,  13.8,  36.6,  10.5,  15.9,  20.7,\n",
       "        20.2,  15.8,  12.8,  10.7,  12.3,  16.3,  20.8,  18.7,  15.4,\n",
       "        12.9,  40.5,  41.9,  39.3,  15.3,  17. ,  19. ,   8.6,   9.7,\n",
       "        13.9,  19.8,  11.1,   5. ,   7.6,  13.5,   8.5,  37.8,  26.6,\n",
       "        20.3,  18.8])"
      ]
     },
     "execution_count": 78,
     "metadata": {},
     "output_type": "execute_result"
    }
   ],
   "source": [
    "df['Mean Temperature in degree C - Maximum'].unique()"
   ]
  },
  {
   "cell_type": "code",
   "execution_count": 76,
   "metadata": {},
   "outputs": [
    {
     "data": {
      "text/plain": [
       "array([  8. ,  10. ,  14.5,  18.7,  21. ,  19.8,  17.8,  17.6,  16.2,\n",
       "        12.1,   9. ,  13.2,  22.2,  23.5,  24.6,  24.8,  24.7,  24.3,\n",
       "        22. ,  16.6,  11.3,   7.7,  10.3,  15.5,  21.5,  26.5,  28.9,\n",
       "        26.8,  25.7,  19.1,  12.5,   8.2,  13.1,  14.8,  19.4,  26.3,\n",
       "        27.2,  24.9,  24.4,  21.9,  17.5,  14.1,  11.4,  12.8,  15.6,\n",
       "        18.1,  18.9,  19.2,  18. ,  15.1,  12.2,   7.6,  16. ,  27.5,\n",
       "        25.6,  23.7,  18.8,  12.3,   8.4,  15.4,  19.7,  24.2,  27.3,\n",
       "        25.5,  23. ,  22.5,  12.4,   8.9,  22.3,  26.7,  28.5,  26.6,\n",
       "        25.9,  25. ,  20.2,  13.5,   9.4,   8.7,  20.8,  23.2,  22.9,\n",
       "        22.1,   8.5,  23.6,  24.5,  25.3,  27.1,  25.1,   3.9,   6.3,\n",
       "        11. ,  21.2,  25.2,  22.7,  15.7,   8.6,   4.3,  17.4,  19.3,\n",
       "        22.4,  25.8,  26.2,  23.8,  23.4,  20.1,  17.7,  26.4,  24.1,\n",
       "        24. ,  13. ,  23.9,  21.7,  21.1,  20.6,  13.7,  10.7,  13.9,\n",
       "        16.7,  26. ,  15. ,  19. ,  21.3,  17.2,   8.3,  10.4,  15.2,\n",
       "        20.9,  27. ,  26.1,  12.7,   8.8,  14.2,  18.4,  21.4,  16.9,\n",
       "        14.6,  18.5,  20.4,  19.5,  11.6,  23.3,  17.1,   4.7,   7.8,\n",
       "        18.6,  22.6,  16.3,   9.6,   5.2,  10.5,  21.8,  25.4,  21.6,\n",
       "        10.9,  11.8,  20.7,  10.1,   6.5,  29.3,  28.1,  20. ,   7.4,\n",
       "        23.1,   6.1,  13.4,  17. ,   6.7,  27.6,  27.4,   7.3,  16.1,\n",
       "        18.2,  12. ,  15.8,  11.2,   1.8,   2.9,  11.5,  13.6,  14.3,\n",
       "        13.3,   3.3,   6. ,  22.8,   6.8,   5.9,   7.5,  15.9,  10.6,\n",
       "         9.1,   9.8,  16.5,  20.5,  18.3,   4.2,   5.5,   5.6,  12.6,\n",
       "        16.4,   9.2,  14.4,  10.2,  11.9,  11.7,   7. ,  29. ,   5.8,\n",
       "        13.8,  19.6,  27.8,  20.3,   4. ,   6.9,   5.1,   9.9,   9.3,\n",
       "        14.9,  11.1,  26.9,  28.2,  19.9,  10.8,   2.1,   3.2,   6.6,\n",
       "         6.2,   3.8,   7.2,   7.1,  28.4,   8.1,   9.7,  29.2,  17.3,\n",
       "        -1.7,  -0.7,   2.4,  15.3,   5.4,   1.5,  -0.4,   1.6,   2.3,\n",
       "        12.9,   9.5,   3.4,  17.9,  28. ,   1.7,   3.5,   5.7,   3.1,\n",
       "        28.3,  14. ,   4.4,   6.4,   5.3,   1.9,   2.7,   4.1,  -2.3,\n",
       "        -0.8,   0.3,  -2. ,  14.7,  27.9])"
      ]
     },
     "execution_count": 76,
     "metadata": {},
     "output_type": "execute_result"
    }
   ],
   "source": [
    "df['Mean Temperature  in degree C - Minimum'].unique()"
   ]
  },
  {
   "cell_type": "code",
   "execution_count": 80,
   "metadata": {},
   "outputs": [],
   "source": [
    "df_group_one=df[['Month','Mean Rainfall in mm']]"
   ]
  },
  {
   "cell_type": "code",
   "execution_count": 81,
   "metadata": {},
   "outputs": [
    {
     "data": {
      "text/html": [
       "<div>\n",
       "<style>\n",
       "    .dataframe thead tr:only-child th {\n",
       "        text-align: right;\n",
       "    }\n",
       "\n",
       "    .dataframe thead th {\n",
       "        text-align: left;\n",
       "    }\n",
       "\n",
       "    .dataframe tbody tr th {\n",
       "        vertical-align: top;\n",
       "    }\n",
       "</style>\n",
       "<table border=\"1\" class=\"dataframe\">\n",
       "  <thead>\n",
       "    <tr style=\"text-align: right;\">\n",
       "      <th></th>\n",
       "      <th>Month</th>\n",
       "      <th>Mean Rainfall in mm</th>\n",
       "    </tr>\n",
       "  </thead>\n",
       "  <tbody>\n",
       "    <tr>\n",
       "      <th>0</th>\n",
       "      <td>April</td>\n",
       "      <td>50.519820</td>\n",
       "    </tr>\n",
       "    <tr>\n",
       "      <th>1</th>\n",
       "      <td>August</td>\n",
       "      <td>307.561261</td>\n",
       "    </tr>\n",
       "    <tr>\n",
       "      <th>2</th>\n",
       "      <td>December</td>\n",
       "      <td>25.153153</td>\n",
       "    </tr>\n",
       "    <tr>\n",
       "      <th>3</th>\n",
       "      <td>February</td>\n",
       "      <td>21.926126</td>\n",
       "    </tr>\n",
       "    <tr>\n",
       "      <th>4</th>\n",
       "      <td>January</td>\n",
       "      <td>19.227027</td>\n",
       "    </tr>\n",
       "    <tr>\n",
       "      <th>5</th>\n",
       "      <td>July</td>\n",
       "      <td>362.729730</td>\n",
       "    </tr>\n",
       "    <tr>\n",
       "      <th>6</th>\n",
       "      <td>June</td>\n",
       "      <td>240.472072</td>\n",
       "    </tr>\n",
       "    <tr>\n",
       "      <th>7</th>\n",
       "      <td>March</td>\n",
       "      <td>30.389189</td>\n",
       "    </tr>\n",
       "    <tr>\n",
       "      <th>8</th>\n",
       "      <td>May</td>\n",
       "      <td>98.840541</td>\n",
       "    </tr>\n",
       "    <tr>\n",
       "      <th>9</th>\n",
       "      <td>November</td>\n",
       "      <td>46.998198</td>\n",
       "    </tr>\n",
       "    <tr>\n",
       "      <th>10</th>\n",
       "      <td>October</td>\n",
       "      <td>105.357658</td>\n",
       "    </tr>\n",
       "    <tr>\n",
       "      <th>11</th>\n",
       "      <td>September</td>\n",
       "      <td>204.051351</td>\n",
       "    </tr>\n",
       "  </tbody>\n",
       "</table>\n",
       "</div>"
      ],
      "text/plain": [
       "        Month  Mean Rainfall in mm\n",
       "0       April            50.519820\n",
       "1      August           307.561261\n",
       "2    December            25.153153\n",
       "3    February            21.926126\n",
       "4     January            19.227027\n",
       "5        July           362.729730\n",
       "6        June           240.472072\n",
       "7       March            30.389189\n",
       "8         May            98.840541\n",
       "9    November            46.998198\n",
       "10    October           105.357658\n",
       "11  September           204.051351"
      ]
     },
     "execution_count": 81,
     "metadata": {},
     "output_type": "execute_result"
    }
   ],
   "source": [
    "df_group_one=df_group_one.groupby(['Month'],as_index= False).mean()\n",
    "df_group_one"
   ]
  },
  {
   "cell_type": "code",
   "execution_count": 91,
   "metadata": {},
   "outputs": [],
   "source": [
    "from scipy import stats"
   ]
  },
  {
   "cell_type": "code",
   "execution_count": 92,
   "metadata": {},
   "outputs": [
    {
     "name": "stdout",
     "output_type": "stream",
     "text": [
      "The Pearson Correlation Coefficient is 0.220374153068  with a P-value of P = 4.10006938029e-16\n"
     ]
    }
   ],
   "source": [
    "pearson_coef, p_value = stats.pearsonr(df['Mean Temperature  in degree C - Minimum'], df['Mean Rainfall in mm'])\n",
    "print(\"The Pearson Correlation Coefficient is\", pearson_coef, \" with a P-value of P =\", p_value)  "
   ]
  },
  {
   "cell_type": "code",
   "execution_count": 93,
   "metadata": {},
   "outputs": [
    {
     "name": "stdout",
     "output_type": "stream",
     "text": [
      "The Pearson Correlation Coefficient is -0.112948236667  with a P-value of P = 3.60276940511e-05\n"
     ]
    }
   ],
   "source": [
    "pearson_coef, p_value = stats.pearsonr(df['Mean Temperature in degree C - Maximum'], df['Mean Rainfall in mm'])\n",
    "print(\"The Pearson Correlation Coefficient is\", pearson_coef, \" with a P-value of P =\", p_value) "
   ]
  },
  {
   "cell_type": "code",
   "execution_count": 96,
   "metadata": {},
   "outputs": [
    {
     "data": {
      "text/html": [
       "<div>\n",
       "<style>\n",
       "    .dataframe thead tr:only-child th {\n",
       "        text-align: right;\n",
       "    }\n",
       "\n",
       "    .dataframe thead th {\n",
       "        text-align: left;\n",
       "    }\n",
       "\n",
       "    .dataframe tbody tr th {\n",
       "        vertical-align: top;\n",
       "    }\n",
       "</style>\n",
       "<table border=\"1\" class=\"dataframe\">\n",
       "  <thead>\n",
       "    <tr style=\"text-align: right;\">\n",
       "      <th></th>\n",
       "      <th>Month</th>\n",
       "      <th>Mean Rainfall in mm</th>\n",
       "    </tr>\n",
       "  </thead>\n",
       "  <tbody>\n",
       "    <tr>\n",
       "      <th>0</th>\n",
       "      <td>January</td>\n",
       "      <td>5.3</td>\n",
       "    </tr>\n",
       "    <tr>\n",
       "      <th>1</th>\n",
       "      <td>February</td>\n",
       "      <td>4.4</td>\n",
       "    </tr>\n",
       "    <tr>\n",
       "      <th>2</th>\n",
       "      <td>March</td>\n",
       "      <td>6.5</td>\n",
       "    </tr>\n",
       "    <tr>\n",
       "      <th>3</th>\n",
       "      <td>April</td>\n",
       "      <td>2.6</td>\n",
       "    </tr>\n",
       "    <tr>\n",
       "      <th>4</th>\n",
       "      <td>May</td>\n",
       "      <td>16.4</td>\n",
       "    </tr>\n",
       "    <tr>\n",
       "      <th>5</th>\n",
       "      <td>June</td>\n",
       "      <td>101.6</td>\n",
       "    </tr>\n",
       "    <tr>\n",
       "      <th>6</th>\n",
       "      <td>July</td>\n",
       "      <td>573.2</td>\n",
       "    </tr>\n",
       "    <tr>\n",
       "      <th>7</th>\n",
       "      <td>August</td>\n",
       "      <td>600.3</td>\n",
       "    </tr>\n",
       "    <tr>\n",
       "      <th>8</th>\n",
       "      <td>September</td>\n",
       "      <td>214.2</td>\n",
       "    </tr>\n",
       "    <tr>\n",
       "      <th>9</th>\n",
       "      <td>October</td>\n",
       "      <td>19.4</td>\n",
       "    </tr>\n",
       "    <tr>\n",
       "      <th>10</th>\n",
       "      <td>November</td>\n",
       "      <td>7.9</td>\n",
       "    </tr>\n",
       "    <tr>\n",
       "      <th>11</th>\n",
       "      <td>December</td>\n",
       "      <td>2.4</td>\n",
       "    </tr>\n",
       "    <tr>\n",
       "      <th>12</th>\n",
       "      <td>January</td>\n",
       "      <td>27.5</td>\n",
       "    </tr>\n",
       "    <tr>\n",
       "      <th>13</th>\n",
       "      <td>February</td>\n",
       "      <td>21.5</td>\n",
       "    </tr>\n",
       "    <tr>\n",
       "      <th>14</th>\n",
       "      <td>March</td>\n",
       "      <td>60.7</td>\n",
       "    </tr>\n",
       "    <tr>\n",
       "      <th>15</th>\n",
       "      <td>April</td>\n",
       "      <td>199.7</td>\n",
       "    </tr>\n",
       "    <tr>\n",
       "      <th>16</th>\n",
       "      <td>May</td>\n",
       "      <td>329.9</td>\n",
       "    </tr>\n",
       "    <tr>\n",
       "      <th>17</th>\n",
       "      <td>June</td>\n",
       "      <td>393.4</td>\n",
       "    </tr>\n",
       "    <tr>\n",
       "      <th>18</th>\n",
       "      <td>July</td>\n",
       "      <td>363.1</td>\n",
       "    </tr>\n",
       "    <tr>\n",
       "      <th>19</th>\n",
       "      <td>August</td>\n",
       "      <td>298.7</td>\n",
       "    </tr>\n",
       "    <tr>\n",
       "      <th>20</th>\n",
       "      <td>September</td>\n",
       "      <td>232.4</td>\n",
       "    </tr>\n",
       "    <tr>\n",
       "      <th>21</th>\n",
       "      <td>October</td>\n",
       "      <td>162.5</td>\n",
       "    </tr>\n",
       "    <tr>\n",
       "      <th>22</th>\n",
       "      <td>November</td>\n",
       "      <td>46.0</td>\n",
       "    </tr>\n",
       "    <tr>\n",
       "      <th>23</th>\n",
       "      <td>December</td>\n",
       "      <td>10.6</td>\n",
       "    </tr>\n",
       "  </tbody>\n",
       "</table>\n",
       "</div>"
      ],
      "text/plain": [
       "        Month  Mean Rainfall in mm\n",
       "0     January                  5.3\n",
       "1    February                  4.4\n",
       "2       March                  6.5\n",
       "3       April                  2.6\n",
       "4         May                 16.4\n",
       "5        June                101.6\n",
       "6        July                573.2\n",
       "7      August                600.3\n",
       "8   September                214.2\n",
       "9     October                 19.4\n",
       "10   November                  7.9\n",
       "11   December                  2.4\n",
       "12    January                 27.5\n",
       "13   February                 21.5\n",
       "14      March                 60.7\n",
       "15      April                199.7\n",
       "16        May                329.9\n",
       "17       June                393.4\n",
       "18       July                363.1\n",
       "19     August                298.7\n",
       "20  September                232.4\n",
       "21    October                162.5\n",
       "22   November                 46.0\n",
       "23   December                 10.6"
      ]
     },
     "execution_count": 96,
     "metadata": {},
     "output_type": "execute_result"
    }
   ],
   "source": [
    "df_gptest=df[['Month','Mean Rainfall in mm']]\n",
    "grouped_test2=df_gptest[['Month','Mean Rainfall in mm']].groupby(['Month'])\n",
    "grouped_test2.head(2)"
   ]
  },
  {
   "cell_type": "code",
   "execution_count": 98,
   "metadata": {},
   "outputs": [
    {
     "data": {
      "text/plain": [
       "0        5.3\n",
       "12      27.5\n",
       "24      13.2\n",
       "36       2.1\n",
       "48      13.4\n",
       "60       7.3\n",
       "72      10.4\n",
       "84      17.9\n",
       "96      22.6\n",
       "108     15.9\n",
       "120     28.3\n",
       "132      0.9\n",
       "144     10.5\n",
       "156     11.3\n",
       "168     17.0\n",
       "180      4.9\n",
       "192     22.9\n",
       "204      2.2\n",
       "216      1.1\n",
       "228     18.2\n",
       "240     11.4\n",
       "252     13.2\n",
       "264     13.1\n",
       "276      2.0\n",
       "288      5.7\n",
       "300      4.8\n",
       "312     46.6\n",
       "324     35.3\n",
       "336     19.2\n",
       "348      6.6\n",
       "        ... \n",
       "972      1.3\n",
       "984     18.9\n",
       "996     20.9\n",
       "1008     3.5\n",
       "1020     0.9\n",
       "1032     6.1\n",
       "1044    50.9\n",
       "1056    20.4\n",
       "1068    14.8\n",
       "1080    46.4\n",
       "1092     1.6\n",
       "1104    11.7\n",
       "1116     1.0\n",
       "1128    20.5\n",
       "1140    14.2\n",
       "1152    13.7\n",
       "1164    57.9\n",
       "1176    18.0\n",
       "1188     4.7\n",
       "1200    11.6\n",
       "1212    62.2\n",
       "1224     2.1\n",
       "1236    22.9\n",
       "1248    22.0\n",
       "1260     8.7\n",
       "1272     2.4\n",
       "1284    20.5\n",
       "1296    17.6\n",
       "1308     6.2\n",
       "1320    14.2\n",
       "Name: Mean Rainfall in mm, Length: 111, dtype: float64"
      ]
     },
     "execution_count": 98,
     "metadata": {},
     "output_type": "execute_result"
    }
   ],
   "source": [
    "grouped_test2.get_group('January')['Mean Rainfall in mm']"
   ]
  },
  {
   "cell_type": "code",
   "execution_count": 99,
   "metadata": {},
   "outputs": [
    {
     "name": "stdout",
     "output_type": "stream",
     "text": [
      "ANOVA results: F= 137.003147212 , P = 4.81901680168e-44\n"
     ]
    }
   ],
   "source": [
    "f_val, p_val = stats.f_oneway(grouped_test2.get_group('January')['Mean Rainfall in mm'], grouped_test2.get_group('August')['Mean Rainfall in mm'], grouped_test2.get_group('January')['Mean Rainfall in mm'])  \n",
    " \n",
    "print( \"ANOVA results: F=\", f_val, \", P =\", p_val) "
   ]
  },
  {
   "cell_type": "code",
   "execution_count": 100,
   "metadata": {
    "collapsed": true
   },
   "outputs": [],
   "source": [
    "from sklearn.linear_model import LinearRegression"
   ]
  },
  {
   "cell_type": "code",
   "execution_count": 101,
   "metadata": {},
   "outputs": [
    {
     "data": {
      "text/plain": [
       "LinearRegression(copy_X=True, fit_intercept=True, n_jobs=1, normalize=False)"
      ]
     },
     "execution_count": 101,
     "metadata": {},
     "output_type": "execute_result"
    }
   ],
   "source": [
    "lm = LinearRegression()\n",
    "lm"
   ]
  },
  {
   "cell_type": "code",
   "execution_count": 102,
   "metadata": {},
   "outputs": [
    {
     "data": {
      "text/plain": [
       "Index(['Station Name', 'Month', 'Period', 'No. of Years',\n",
       "       'Mean Temperature in degree C - Maximum',\n",
       "       'Mean Temperature  in degree C - Minimum', 'Mean Rainfall in mm'],\n",
       "      dtype='object')"
      ]
     },
     "execution_count": 102,
     "metadata": {},
     "output_type": "execute_result"
    }
   ],
   "source": [
    "df.columns"
   ]
  },
  {
   "cell_type": "code",
   "execution_count": 103,
   "metadata": {
    "collapsed": true
   },
   "outputs": [],
   "source": [
    "X = df[['Mean Temperature in degree C - Maximum']]\n",
    "Y = df['Mean Rainfall in mm']"
   ]
  },
  {
   "cell_type": "code",
   "execution_count": 104,
   "metadata": {},
   "outputs": [
    {
     "data": {
      "text/plain": [
       "LinearRegression(copy_X=True, fit_intercept=True, n_jobs=1, normalize=False)"
      ]
     },
     "execution_count": 104,
     "metadata": {},
     "output_type": "execute_result"
    }
   ],
   "source": [
    "lm.fit(X,Y)"
   ]
  },
  {
   "cell_type": "code",
   "execution_count": 105,
   "metadata": {},
   "outputs": [
    {
     "data": {
      "text/plain": [
       "array([ 167.54740838,  160.90311989,  144.09697844,  128.07251798,\n",
       "        119.8648675 ])"
      ]
     },
     "execution_count": 105,
     "metadata": {},
     "output_type": "execute_result"
    }
   ],
   "source": [
    "Yhat=lm.predict(X)\n",
    "Yhat[0:5] "
   ]
  },
  {
   "cell_type": "code",
   "execution_count": 106,
   "metadata": {},
   "outputs": [
    {
     "data": {
      "text/plain": [
       "242.97962467484189"
      ]
     },
     "execution_count": 106,
     "metadata": {},
     "output_type": "execute_result"
    }
   ],
   "source": [
    "lm.intercept_"
   ]
  },
  {
   "cell_type": "code",
   "execution_count": 107,
   "metadata": {},
   "outputs": [
    {
     "data": {
      "text/plain": [
       "array([-3.90840499])"
      ]
     },
     "execution_count": 107,
     "metadata": {},
     "output_type": "execute_result"
    }
   ],
   "source": [
    "lm.coef_"
   ]
  },
  {
   "cell_type": "code",
   "execution_count": 110,
   "metadata": {
    "collapsed": true
   },
   "outputs": [],
   "source": [
    "Z = df[['Mean Temperature in degree C - Maximum',\n",
    "       'Mean Temperature  in degree C - Minimum', 'No. of Years']]"
   ]
  },
  {
   "cell_type": "code",
   "execution_count": 111,
   "metadata": {},
   "outputs": [
    {
     "data": {
      "text/plain": [
       "LinearRegression(copy_X=True, fit_intercept=True, n_jobs=1, normalize=False)"
      ]
     },
     "execution_count": 111,
     "metadata": {},
     "output_type": "execute_result"
    }
   ],
   "source": [
    "lm.fit(Z, df['Mean Rainfall in mm'])"
   ]
  },
  {
   "cell_type": "code",
   "execution_count": 112,
   "metadata": {},
   "outputs": [
    {
     "data": {
      "text/plain": [
       "485.30043683896952"
      ]
     },
     "execution_count": 112,
     "metadata": {},
     "output_type": "execute_result"
    }
   ],
   "source": [
    "lm.intercept_"
   ]
  },
  {
   "cell_type": "code",
   "execution_count": 113,
   "metadata": {},
   "outputs": [
    {
     "data": {
      "text/plain": [
       "array([-31.83096264,  31.87910665,  -0.1147557 ])"
      ]
     },
     "execution_count": 113,
     "metadata": {},
     "output_type": "execute_result"
    }
   ],
   "source": [
    "lm.coef_"
   ]
  },
  {
   "cell_type": "code",
   "execution_count": 114,
   "metadata": {
    "collapsed": true
   },
   "outputs": [],
   "source": [
    "# import the visualization package: seaborn\n",
    "import seaborn as sns\n",
    "%matplotlib inline "
   ]
  },
  {
   "cell_type": "code",
   "execution_count": 116,
   "metadata": {},
   "outputs": [
    {
     "data": {
      "text/plain": [
       "(0, 2753.1842073037446)"
      ]
     },
     "execution_count": 116,
     "metadata": {},
     "output_type": "execute_result"
    },
    {
     "data": {
      "image/png": "[encoded data removed]",
      "text/plain": [
       "<matplotlib.figure.Figure at 0x1a1f98cc50>"
      ]
     },
     "metadata": {},
     "output_type": "display_data"
    }
   ],
   "source": [
    "width = 20\n",
    "height = 10\n",
    "plt.figure(figsize=(width, height))\n",
    "sns.regplot(x=\"Mean Temperature in degree C - Maximum\", y=\"Mean Rainfall in mm\", data=df)\n",
    "plt.ylim(0,)"
   ]
  },
  {
   "cell_type": "code",
   "execution_count": 117,
   "metadata": {},
   "outputs": [
    {
     "data": {
      "text/plain": [
       "(0, 2756.3158015504691)"
      ]
     },
     "execution_count": 117,
     "metadata": {},
     "output_type": "execute_result"
    },
    {
     "data": {
      "image/png": "[encoded data removed]",
      "text/plain": [
       "<matplotlib.figure.Figure at 0x1a1fe27f28>"
      ]
     },
     "metadata": {},
     "output_type": "display_data"
    }
   ],
   "source": [
    "plt.figure(figsize=(width, height))\n",
    "sns.regplot(x=\"Mean Temperature  in degree C - Minimum\", y=\"Mean Rainfall in mm\", data=df)\n",
    "plt.ylim(0,)"
   ]
  },
  {
   "cell_type": "code",
   "execution_count": 118,
   "metadata": {},
   "outputs": [
    {
     "data": {
      "image/png": "[encoded data removed]",
      "text/plain": [
       "<matplotlib.figure.Figure at 0x1a1f9c9278>"
      ]
     },
     "metadata": {},
     "output_type": "display_data"
    }
   ],
   "source": [
    "width = 20\n",
    "height = 10\n",
    "plt.figure(figsize=(width, height))\n",
    "sns.residplot(df['Mean Temperature in degree C - Maximum'], df['Mean Rainfall in mm'])\n",
    "plt.show()"
   ]
  },
  {
   "cell_type": "code",
   "execution_count": 119,
   "metadata": {},
   "outputs": [
    {
     "data": {
      "image/png": "[encoded data removed]",
      "text/plain": [
       "<matplotlib.figure.Figure at 0x1a20269cf8>"
      ]
     },
     "metadata": {},
     "output_type": "display_data"
    }
   ],
   "source": [
    "width = 20\n",
    "height = 10\n",
    "plt.figure(figsize=(width, height))\n",
    "sns.residplot(df['Mean Temperature  in degree C - Minimum'], df['Mean Rainfall in mm'])\n",
    "plt.show()"
   ]
  },
  {
   "cell_type": "code",
   "execution_count": 120,
   "metadata": {
    "collapsed": true
   },
   "outputs": [],
   "source": [
    "Y_hat = lm.predict(Z)"
   ]
  },
  {
   "cell_type": "code",
   "execution_count": 122,
   "metadata": {},
   "outputs": [
    {
     "data": {
      "image/png": "[encoded data removed]",
      "text/plain": [
       "<matplotlib.figure.Figure at 0x1a20b9aa20>"
      ]
     },
     "metadata": {},
     "output_type": "display_data"
    }
   ],
   "source": [
    "plt.figure(figsize=(width, height))\n",
    "\n",
    "\n",
    "ax1 = sns.distplot(df['Mean Rainfall in mm'], hist=False, color=\"r\", label=\"Actual Value\")\n",
    "sns.distplot(Yhat, hist=False, color=\"b\", label=\"Fitted Values\" , ax=ax1)\n",
    "\n",
    "\n",
    "plt.title('Actual vs Fitted Values for Mean Rainfall')\n",
    "plt.xlabel('Mean Rainfall in mm)')\n",
    "plt.ylabel('Proportion of Temprature')\n",
    "\n",
    "plt.show()\n",
    "plt.close()"
   ]
  },
  {
   "cell_type": "code",
   "execution_count": 131,
   "metadata": {},
   "outputs": [
    {
     "name": "stdout",
     "output_type": "stream",
     "text": [
      "done\n"
     ]
    }
   ],
   "source": [
    "def PlotPolly(model,independent_variable,dependent_variabble, Name):\n",
    "    x_new = np.linspace(15, 55, 100)\n",
    "    y_new = model(x_new)\n",
    "\n",
    "    plt.plot(independent_variable,dependent_variabble,'.', x_new, y_new, '-')\n",
    "    plt.title('Polynomial Fit with Matplotlib for Mean Rainfall in mm')\n",
    "    ax = plt.gca()\n",
    "    ax.set_axis_bgcolor((0.898, 0.898, 0.898))\n",
    "    fig = plt.gcf()\n",
    "    plt.xlabel(Name)\n",
    "    plt.ylabel('Mean Rainfall in mm')\n",
    "\n",
    "    plt.show()\n",
    "    plt.close()\n",
    "    \n",
    "print(\"done\")"
   ]
  },
  {
   "cell_type": "code",
   "execution_count": 132,
   "metadata": {},
   "outputs": [
    {
     "name": "stdout",
     "output_type": "stream",
     "text": [
      "done\n"
     ]
    }
   ],
   "source": [
    "x = df['Mean Temperature in degree C - Maximum']\n",
    "y = df['Mean Rainfall in mm']\n",
    "print(\"done\")"
   ]
  },
  {
   "cell_type": "code",
   "execution_count": 133,
   "metadata": {},
   "outputs": [
    {
     "name": "stdout",
     "output_type": "stream",
     "text": [
      "            3          2\n",
      "-0.0003521 x - 0.5073 x + 25.11 x - 141.8\n"
     ]
    }
   ],
   "source": [
    "import numpy as np\n",
    "# Here we use a polynomial of the 3rd order (cubic) \n",
    "f = np.polyfit(x, y, 3)\n",
    "p = np.poly1d(f)\n",
    "print(p)"
   ]
  },
  {
   "cell_type": "code",
   "execution_count": 134,
   "metadata": {},
   "outputs": [
    {
     "name": "stderr",
     "output_type": "stream",
     "text": [
      "/Users/i1337/anaconda3/lib/python3.6/site-packages/ipykernel_launcher.py:8: MatplotlibDeprecationWarning: The set_axis_bgcolor function was deprecated in version 2.0. Use set_facecolor instead.\n",
      "  \n"
     ]
    },
    {
     "data": {
      "image/png": "[encoded data removed]",
      "text/plain": [
       "<matplotlib.figure.Figure at 0x1a1fe1e320>"
      ]
     },
     "metadata": {},
     "output_type": "display_data"
    }
   ],
   "source": [
    "PlotPolly(p,x,y, 'Mean Temperature in degree C - Maximum')"
   ]
  },
  {
   "cell_type": "code",
   "execution_count": 135,
   "metadata": {},
   "outputs": [
    {
     "data": {
      "text/plain": [
       "array([ -3.52110190e-04,  -5.07264577e-01,   2.51089308e+01,\n",
       "        -1.41821077e+02])"
      ]
     },
     "execution_count": 135,
     "metadata": {},
     "output_type": "execute_result"
    }
   ],
   "source": [
    "np.polyfit(x, y, 3)"
   ]
  },
  {
   "cell_type": "code",
   "execution_count": 136,
   "metadata": {
    "collapsed": true
   },
   "outputs": [],
   "source": [
    "from sklearn.preprocessing import PolynomialFeatures"
   ]
  },
  {
   "cell_type": "code",
   "execution_count": 137,
   "metadata": {},
   "outputs": [
    {
     "data": {
      "text/plain": [
       "PolynomialFeatures(degree=2, include_bias=True, interaction_only=False)"
      ]
     },
     "execution_count": 137,
     "metadata": {},
     "output_type": "execute_result"
    }
   ],
   "source": [
    "pr=PolynomialFeatures(degree=2)\n",
    "pr"
   ]
  },
  {
   "cell_type": "code",
   "execution_count": 138,
   "metadata": {
    "collapsed": true
   },
   "outputs": [],
   "source": [
    "Z_pr=pr.fit_transform(Z)"
   ]
  },
  {
   "cell_type": "code",
   "execution_count": 139,
   "metadata": {},
   "outputs": [
    {
     "data": {
      "text/plain": [
       "(1332, 3)"
      ]
     },
     "execution_count": 139,
     "metadata": {},
     "output_type": "execute_result"
    }
   ],
   "source": [
    "Z.shape"
   ]
  },
  {
   "cell_type": "code",
   "execution_count": 140,
   "metadata": {},
   "outputs": [
    {
     "data": {
      "text/plain": [
       "(1332, 10)"
      ]
     },
     "execution_count": 140,
     "metadata": {},
     "output_type": "execute_result"
    }
   ],
   "source": [
    "Z_pr.shape"
   ]
  },
  {
   "cell_type": "code",
   "execution_count": 141,
   "metadata": {
    "collapsed": true
   },
   "outputs": [],
   "source": [
    "from sklearn.pipeline import Pipeline\n",
    "from sklearn.preprocessing import StandardScaler"
   ]
  },
  {
   "cell_type": "code",
   "execution_count": 142,
   "metadata": {
    "collapsed": true
   },
   "outputs": [],
   "source": [
    "Input=[('scale',StandardScaler()),('polynomial', PolynomialFeatures(include_bias=False)),('model',LinearRegression())]"
   ]
  },
  {
   "cell_type": "code",
   "execution_count": 143,
   "metadata": {},
   "outputs": [
    {
     "data": {
      "text/plain": [
       "Pipeline(memory=None,\n",
       "     steps=[('scale', StandardScaler(copy=True, with_mean=True, with_std=True)), ('polynomial', PolynomialFeatures(degree=2, include_bias=False, interaction_only=False)), ('model', LinearRegression(copy_X=True, fit_intercept=True, n_jobs=1, normalize=False))])"
      ]
     },
     "execution_count": 143,
     "metadata": {},
     "output_type": "execute_result"
    }
   ],
   "source": [
    "pipe=Pipeline(Input)\n",
    "pipe"
   ]
  },
  {
   "cell_type": "code",
   "execution_count": 144,
   "metadata": {},
   "outputs": [
    {
     "data": {
      "text/plain": [
       "Pipeline(memory=None,\n",
       "     steps=[('scale', StandardScaler(copy=True, with_mean=True, with_std=True)), ('polynomial', PolynomialFeatures(degree=2, include_bias=False, interaction_only=False)), ('model', LinearRegression(copy_X=True, fit_intercept=True, n_jobs=1, normalize=False))])"
      ]
     },
     "execution_count": 144,
     "metadata": {},
     "output_type": "execute_result"
    }
   ],
   "source": [
    "pipe.fit(Z,y)"
   ]
  },
  {
   "cell_type": "code",
   "execution_count": 145,
   "metadata": {},
   "outputs": [
    {
     "data": {
      "text/plain": [
       "array([  7.46407311,  32.6052167 ,  57.76470775,  62.34595552])"
      ]
     },
     "execution_count": 145,
     "metadata": {},
     "output_type": "execute_result"
    }
   ],
   "source": [
    "ypipe=pipe.predict(Z)\n",
    "ypipe[0:4]"
   ]
  },
  {
   "cell_type": "code",
   "execution_count": 146,
   "metadata": {},
   "outputs": [
    {
     "data": {
      "text/plain": [
       "0.012757304166221339"
      ]
     },
     "execution_count": 146,
     "metadata": {},
     "output_type": "execute_result"
    }
   ],
   "source": [
    "#Mean Rainfall in mm_fit\n",
    "lm.fit(X, Y)\n",
    "# Find the R^2\n",
    "lm.score(X, Y)"
   ]
  },
  {
   "cell_type": "code",
   "execution_count": 147,
   "metadata": {},
   "outputs": [
    {
     "data": {
      "text/plain": [
       "array([ 167.54740838,  160.90311989,  144.09697844,  128.07251798])"
      ]
     },
     "execution_count": 147,
     "metadata": {},
     "output_type": "execute_result"
    }
   ],
   "source": [
    "Yhat=lm.predict(X)\n",
    "Yhat[0:4]"
   ]
  },
  {
   "cell_type": "code",
   "execution_count": 148,
   "metadata": {
    "collapsed": true
   },
   "outputs": [],
   "source": [
    "from sklearn.metrics import mean_squared_error"
   ]
  },
  {
   "cell_type": "code",
   "execution_count": 150,
   "metadata": {},
   "outputs": [
    {
     "data": {
      "text/plain": [
       "43771.43585566488"
      ]
     },
     "execution_count": 150,
     "metadata": {},
     "output_type": "execute_result"
    }
   ],
   "source": [
    "#mean_squared_error(Y_true, Y_predict)\n",
    "mean_squared_error(df['Mean Rainfall in mm'], Yhat)"
   ]
  },
  {
   "cell_type": "code",
   "execution_count": 151,
   "metadata": {},
   "outputs": [
    {
     "data": {
      "text/plain": [
       "0.31950839803338382"
      ]
     },
     "execution_count": 151,
     "metadata": {},
     "output_type": "execute_result"
    }
   ],
   "source": [
    "# fit the model \n",
    "lm.fit(Z, df['Mean Rainfall in mm'])\n",
    "# Find the R^2\n",
    "lm.score(Z, df['Mean Rainfall in mm'])"
   ]
  },
  {
   "cell_type": "code",
   "execution_count": 152,
   "metadata": {
    "collapsed": true
   },
   "outputs": [],
   "source": [
    "Y_predict_multifit = lm.predict(Z)"
   ]
  },
  {
   "cell_type": "code",
   "execution_count": 153,
   "metadata": {},
   "outputs": [
    {
     "data": {
      "text/plain": [
       "30170.995066865955"
      ]
     },
     "execution_count": 153,
     "metadata": {},
     "output_type": "execute_result"
    }
   ],
   "source": [
    "mean_squared_error(df['Mean Rainfall in mm'], Y_predict_multifit)"
   ]
  },
  {
   "cell_type": "code",
   "execution_count": 154,
   "metadata": {
    "collapsed": true
   },
   "outputs": [],
   "source": [
    "from sklearn.metrics import r2_score"
   ]
  },
  {
   "cell_type": "code",
   "execution_count": 155,
   "metadata": {},
   "outputs": [
    {
     "data": {
      "text/plain": [
       "0.033261338294646281"
      ]
     },
     "execution_count": 155,
     "metadata": {},
     "output_type": "execute_result"
    }
   ],
   "source": [
    "r_squared = r2_score(y, p(x))\n",
    "r_squared"
   ]
  },
  {
   "cell_type": "code",
   "execution_count": 156,
   "metadata": {},
   "outputs": [
    {
     "data": {
      "text/plain": [
       "42862.347322093374"
      ]
     },
     "execution_count": 156,
     "metadata": {},
     "output_type": "execute_result"
    }
   ],
   "source": [
    "mean_squared_error(df['Mean Rainfall in mm'], p(x))"
   ]
  },
  {
   "cell_type": "code",
   "execution_count": 157,
   "metadata": {
    "collapsed": true
   },
   "outputs": [],
   "source": [
    "new_input=np.arange(1,100,1).reshape(-1,1)"
   ]
  },
  {
   "cell_type": "code",
   "execution_count": 158,
   "metadata": {},
   "outputs": [
    {
     "data": {
      "text/plain": [
       "LinearRegression(copy_X=True, fit_intercept=True, n_jobs=1, normalize=False)"
      ]
     },
     "execution_count": 158,
     "metadata": {},
     "output_type": "execute_result"
    }
   ],
   "source": [
    "lm.fit(X, Y)\n",
    "lm"
   ]
  },
  {
   "cell_type": "code",
   "execution_count": 159,
   "metadata": {},
   "outputs": [
    {
     "data": {
      "text/plain": [
       "array([ 239.07121969,  235.1628147 ,  231.25440971,  227.34600472,\n",
       "        223.43759973])"
      ]
     },
     "execution_count": 159,
     "metadata": {},
     "output_type": "execute_result"
    }
   ],
   "source": [
    "yhat=lm.predict(new_input)\n",
    "yhat[0:5]"
   ]
  },
  {
   "cell_type": "code",
   "execution_count": 160,
   "metadata": {},
   "outputs": [
    {
     "data": {
      "image/png": "[encoded data removed]",
      "text/plain": [
       "<matplotlib.figure.Figure at 0x1a15f29e48>"
      ]
     },
     "metadata": {},
     "output_type": "display_data"
    }
   ],
   "source": [
    "plt.plot(new_input,yhat)\n",
    "plt.show()"
   ]
  },
  {
   "cell_type": "code",
   "execution_count": 161,
   "metadata": {
    "collapsed": true
   },
   "outputs": [],
   "source": [
    "df=df._get_numeric_data()"
   ]
  },
  {
   "cell_type": "code",
   "execution_count": 162,
   "metadata": {},
   "outputs": [
    {
     "name": "stdout",
     "output_type": "stream",
     "text": [
      "done\n"
     ]
    },
    {
     "name": "stderr",
     "output_type": "stream",
     "text": [
      "/Users/i1337/anaconda3/lib/python3.6/site-packages/IPython/html.py:14: ShimWarning: The `IPython.html` package has been deprecated since IPython 4.0. You should import from `notebook` instead. `IPython.html.widgets` has moved to `ipywidgets`.\n",
      "  \"`IPython.html.widgets` has moved to `ipywidgets`.\", ShimWarning)\n"
     ]
    }
   ],
   "source": [
    "from IPython.display import display\n",
    "from IPython.html import widgets \n",
    "from IPython.display import display\n",
    "from ipywidgets import interact, interactive, fixed, interact_manual\n",
    "print(\"done\")"
   ]
  },
  {
   "cell_type": "code",
   "execution_count": 163,
   "metadata": {
    "collapsed": true
   },
   "outputs": [],
   "source": [
    "def DistributionPlot(RedFunction,BlueFunction,RedName,BlueName,Title ):\n",
    "    width = 12\n",
    "    height = 10\n",
    "    plt.figure(figsize=(width, height))\n",
    "\n",
    "    ax1 = sns.distplot(RedFunction, hist=False, color=\"r\", label=RedName)\n",
    "    ax2 = sns.distplot(BlueFunction, hist=False, color=\"b\", label=BlueName, ax=ax1)\n",
    "\n",
    "    plt.title(Title)\n",
    "    plt.xlabel('Mean Rainfall in mm')\n",
    "    plt.ylabel('Proportion Temp')\n",
    "\n",
    "    plt.show()\n",
    "    plt.close()"
   ]
  },
  {
   "cell_type": "code",
   "execution_count": 196,
   "metadata": {
    "collapsed": true
   },
   "outputs": [],
   "source": [
    "def PollyPlot(xtrain,xtest,y_train,y_test,lr,poly_transform):\n",
    "    width = 12\n",
    "    height = 10\n",
    "    plt.figure(figsize=(width, height))\n",
    "    \n",
    "    \n",
    "    #training data \n",
    "    #testing data \n",
    "    # lr:  linear regression object \n",
    "    #poly_transform:  polynomial transformation object \n",
    " \n",
    "    xmax=max([xtrain.values.max(),xtest.values.max()])\n",
    "\n",
    "    xmin=min([xtrain.values.min(),xtest.values.min()])\n",
    "\n",
    "    x=np.arange(xmin,xmax,0.1)\n",
    "\n",
    "\n",
    "    plt.plot(xtrain,y_train,'ro',label='Training Data')\n",
    "    plt.plot(xtest,y_test,'go',label='Test Data')\n",
    "    plt.plot(x,lr.predict(poly_transform.fit_transform(x.reshape(-1,1))),label='Predicted Function')\n",
    "    plt.ylim([0,2500])\n",
    "    plt.ylabel('Mean Rainfall in mm')\n",
    "    plt.legend()\n"
   ]
  },
  {
   "cell_type": "code",
   "execution_count": 166,
   "metadata": {
    "collapsed": true
   },
   "outputs": [],
   "source": [
    "y_data=df['Mean Rainfall in mm']"
   ]
  },
  {
   "cell_type": "code",
   "execution_count": 167,
   "metadata": {
    "collapsed": true
   },
   "outputs": [],
   "source": [
    "x_data=df.drop('Mean Rainfall in mm',axis=1)"
   ]
  },
  {
   "cell_type": "code",
   "execution_count": 168,
   "metadata": {},
   "outputs": [
    {
     "name": "stdout",
     "output_type": "stream",
     "text": [
      "number of test samples : 200\n",
      "number of training samples: 1132\n"
     ]
    }
   ],
   "source": [
    "from sklearn.model_selection import train_test_split\n",
    "\n",
    "\n",
    "x_train, x_test, y_train, y_test = train_test_split(x_data, y_data, test_size=0.15, random_state=1)\n",
    "\n",
    "\n",
    "print(\"number of test samples :\", x_test.shape[0])\n",
    "print(\"number of training samples:\",x_train.shape[0])\n"
   ]
  },
  {
   "cell_type": "code",
   "execution_count": 169,
   "metadata": {
    "collapsed": true
   },
   "outputs": [],
   "source": [
    "from sklearn.linear_model import LinearRegression"
   ]
  },
  {
   "cell_type": "code",
   "execution_count": 170,
   "metadata": {
    "collapsed": true
   },
   "outputs": [],
   "source": [
    "lre=LinearRegression()"
   ]
  },
  {
   "cell_type": "code",
   "execution_count": 171,
   "metadata": {},
   "outputs": [
    {
     "data": {
      "text/plain": [
       "LinearRegression(copy_X=True, fit_intercept=True, n_jobs=1, normalize=False)"
      ]
     },
     "execution_count": 171,
     "metadata": {},
     "output_type": "execute_result"
    }
   ],
   "source": [
    "lre.fit(x_train[['Mean Temperature in degree C - Maximum']],y_train)"
   ]
  },
  {
   "cell_type": "code",
   "execution_count": 172,
   "metadata": {},
   "outputs": [
    {
     "data": {
      "text/plain": [
       "-0.035549476647249945"
      ]
     },
     "execution_count": 172,
     "metadata": {},
     "output_type": "execute_result"
    }
   ],
   "source": [
    "lre.score(x_test[['Mean Temperature in degree C - Maximum']],y_test)"
   ]
  },
  {
   "cell_type": "code",
   "execution_count": 173,
   "metadata": {},
   "outputs": [
    {
     "data": {
      "text/plain": [
       "0.013322521823691424"
      ]
     },
     "execution_count": 173,
     "metadata": {},
     "output_type": "execute_result"
    }
   ],
   "source": [
    "lre.score(x_train[['Mean Temperature in degree C - Maximum']],y_train)"
   ]
  },
  {
   "cell_type": "code",
   "execution_count": 174,
   "metadata": {},
   "outputs": [
    {
     "name": "stdout",
     "output_type": "stream",
     "text": [
      "done\n"
     ]
    }
   ],
   "source": [
    "from sklearn.model_selection import cross_val_score\n",
    "print(\"done\")"
   ]
  },
  {
   "cell_type": "code",
   "execution_count": 175,
   "metadata": {
    "collapsed": true
   },
   "outputs": [],
   "source": [
    "Rcross=cross_val_score(lre,x_data[['Mean Temperature in degree C - Maximum']], y_data,cv=4)"
   ]
  },
  {
   "cell_type": "code",
   "execution_count": 176,
   "metadata": {},
   "outputs": [
    {
     "data": {
      "text/plain": [
       "array([-0.06357892,  0.00199675,  0.01010263, -0.02170698])"
      ]
     },
     "execution_count": 176,
     "metadata": {},
     "output_type": "execute_result"
    }
   ],
   "source": [
    "Rcross"
   ]
  },
  {
   "cell_type": "code",
   "execution_count": 177,
   "metadata": {},
   "outputs": [
    {
     "name": "stdout",
     "output_type": "stream",
     "text": [
      "The mean of the folds are -0.0182966282382 and the standard deviation is 0.0286376300179\n"
     ]
    }
   ],
   "source": [
    "print(\"The mean of the folds are\", Rcross.mean(),\"and the standard deviation is\" ,Rcross.std())"
   ]
  },
  {
   "cell_type": "code",
   "execution_count": 179,
   "metadata": {},
   "outputs": [
    {
     "data": {
      "text/plain": [
       "array([ 18780.98360445,  80858.44917776,  48205.48844513,  28965.92394633])"
      ]
     },
     "execution_count": 179,
     "metadata": {},
     "output_type": "execute_result"
    }
   ],
   "source": [
    "-1*cross_val_score(lre,x_data[['Mean Temperature in degree C - Maximum']], y_data,cv=4,scoring='neg_mean_squared_error')"
   ]
  },
  {
   "cell_type": "code",
   "execution_count": 180,
   "metadata": {
    "collapsed": true
   },
   "outputs": [],
   "source": [
    "from sklearn.model_selection import cross_val_predict"
   ]
  },
  {
   "cell_type": "code",
   "execution_count": 181,
   "metadata": {},
   "outputs": [
    {
     "data": {
      "text/plain": [
       "array([ 175.77736001,  169.13380072,  152.3295037 ,  136.30680189,\n",
       "        128.10005218])"
      ]
     },
     "execution_count": 181,
     "metadata": {},
     "output_type": "execute_result"
    }
   ],
   "source": [
    "yhat=cross_val_predict(lre,x_data[['Mean Temperature in degree C - Maximum']], y_data,cv=4)\n",
    "yhat[0:5]"
   ]
  },
  {
   "cell_type": "code",
   "execution_count": 182,
   "metadata": {},
   "outputs": [
    {
     "data": {
      "text/plain": [
       "Index(['No. of Years', 'Mean Temperature in degree C - Maximum',\n",
       "       'Mean Temperature  in degree C - Minimum', 'Mean Rainfall in mm'],\n",
       "      dtype='object')"
      ]
     },
     "execution_count": 182,
     "metadata": {},
     "output_type": "execute_result"
    }
   ],
   "source": [
    "df.columns"
   ]
  },
  {
   "cell_type": "code",
   "execution_count": 183,
   "metadata": {},
   "outputs": [
    {
     "data": {
      "text/plain": [
       "LinearRegression(copy_X=True, fit_intercept=True, n_jobs=1, normalize=False)"
      ]
     },
     "execution_count": 183,
     "metadata": {},
     "output_type": "execute_result"
    }
   ],
   "source": [
    "lr=LinearRegression()\n",
    "lr.fit(x_train[['No. of Years', 'Mean Temperature in degree C - Maximum',\n",
    "       'Mean Temperature  in degree C - Minimum']],y_train)"
   ]
  },
  {
   "cell_type": "code",
   "execution_count": 184,
   "metadata": {},
   "outputs": [
    {
     "data": {
      "text/plain": [
       "array([ 222.87379203,  302.40139232,  144.02130463,  -52.15310439,\n",
       "         66.94279297])"
      ]
     },
     "execution_count": 184,
     "metadata": {},
     "output_type": "execute_result"
    }
   ],
   "source": [
    "yhat_train=lr.predict(x_train[['No. of Years', 'Mean Temperature in degree C - Maximum',\n",
    "       'Mean Temperature  in degree C - Minimum']])\n",
    "yhat_train[0:5]"
   ]
  },
  {
   "cell_type": "code",
   "execution_count": 185,
   "metadata": {},
   "outputs": [
    {
     "data": {
      "text/plain": [
       "array([ 209.90357485,  103.04250742,  293.8084789 ,  -15.71356091,\n",
       "        280.72263735])"
      ]
     },
     "execution_count": 185,
     "metadata": {},
     "output_type": "execute_result"
    }
   ],
   "source": [
    "yhat_test=lr.predict(x_test[['No. of Years', 'Mean Temperature in degree C - Maximum',\n",
    "       'Mean Temperature  in degree C - Minimum']])\n",
    "yhat_test[0:5]"
   ]
  },
  {
   "cell_type": "code",
   "execution_count": 186,
   "metadata": {},
   "outputs": [
    {
     "data": {
      "image/png": "[encoded data removed]",
      "text/plain": [
       "<matplotlib.figure.Figure at 0x1a20886780>"
      ]
     },
     "metadata": {},
     "output_type": "display_data"
    }
   ],
   "source": [
    "Title='Distribution  Plot of  Predicted Value Using Training Data vs Training Data Distribution '\n",
    "DistributionPlot(y_train,yhat_train,\"Actual Values (Train)\",\"Predicted Values (Train)\",Title)"
   ]
  },
  {
   "cell_type": "code",
   "execution_count": 187,
   "metadata": {},
   "outputs": [
    {
     "data": {
      "image/png": "[encoded data removed]",
      "text/plain": [
       "<matplotlib.figure.Figure at 0x1a2088f400>"
      ]
     },
     "metadata": {},
     "output_type": "display_data"
    }
   ],
   "source": [
    "Title='Distribution  Plot of  Predicted Value Using Test Data vs Data Distribution of Test Data'\n",
    "DistributionPlot(y_test,yhat_test,\"Actual Values (Test)\",\"Predicted Values (Test)\",Title)"
   ]
  },
  {
   "cell_type": "code",
   "execution_count": 188,
   "metadata": {},
   "outputs": [
    {
     "name": "stdout",
     "output_type": "stream",
     "text": [
      "done\n"
     ]
    }
   ],
   "source": [
    "from sklearn.preprocessing import PolynomialFeatures\n",
    "print(\"done\")"
   ]
  },
  {
   "cell_type": "code",
   "execution_count": 189,
   "metadata": {},
   "outputs": [
    {
     "name": "stdout",
     "output_type": "stream",
     "text": [
      "done\n"
     ]
    }
   ],
   "source": [
    "x_train, x_test, y_train, y_test = train_test_split(x_data, y_data, test_size=0.45, random_state=0)\n",
    "print(\"done\")"
   ]
  },
  {
   "cell_type": "code",
   "execution_count": 190,
   "metadata": {},
   "outputs": [
    {
     "data": {
      "text/plain": [
       "PolynomialFeatures(degree=5, include_bias=True, interaction_only=False)"
      ]
     },
     "execution_count": 190,
     "metadata": {},
     "output_type": "execute_result"
    }
   ],
   "source": [
    "pr=PolynomialFeatures(degree=5)\n",
    "x_train_pr=pr.fit_transform(x_train[['Mean Temperature in degree C - Maximum']])\n",
    "x_test_pr=pr.fit_transform(x_test[['Mean Temperature in degree C - Maximum']])\n",
    "pr"
   ]
  },
  {
   "cell_type": "code",
   "execution_count": 191,
   "metadata": {},
   "outputs": [
    {
     "data": {
      "text/plain": [
       "LinearRegression(copy_X=True, fit_intercept=True, n_jobs=1, normalize=False)"
      ]
     },
     "execution_count": 191,
     "metadata": {},
     "output_type": "execute_result"
    }
   ],
   "source": [
    "poly=LinearRegression()\n",
    "poly.fit(x_train_pr,y_train)"
   ]
  },
  {
   "cell_type": "code",
   "execution_count": 192,
   "metadata": {},
   "outputs": [
    {
     "data": {
      "text/plain": [
       "array([ 165.56199022,  158.86087823,  139.98264691,  165.9505085 ,\n",
       "         25.22075197])"
      ]
     },
     "execution_count": 192,
     "metadata": {},
     "output_type": "execute_result"
    }
   ],
   "source": [
    "yhat=poly.predict(x_test_pr )\n",
    "yhat[0:5]"
   ]
  },
  {
   "cell_type": "code",
   "execution_count": 193,
   "metadata": {},
   "outputs": [
    {
     "name": "stdout",
     "output_type": "stream",
     "text": [
      "Predicted values: [ 165.56199022  158.86087823  139.98264691  165.9505085 ]\n",
      "True values: [ 468.8   19.    18.1    6.8]\n"
     ]
    }
   ],
   "source": [
    "print(\"Predicted values:\", yhat[0:4])\n",
    "print(\"True values:\",y_test[0:4].values)"
   ]
  },
  {
   "cell_type": "code",
   "execution_count": 197,
   "metadata": {},
   "outputs": [
    {
     "data": {
      "image/png": "[encoded data removed]",
      "text/plain": [
       "<matplotlib.figure.Figure at 0x1a1f987d30>"
      ]
     },
     "metadata": {},
     "output_type": "display_data"
    }
   ],
   "source": [
    "PollyPlot(x_train[['Mean Temperature in degree C - Maximum']],x_test[['Mean Temperature in degree C - Maximum']],y_train,y_test,poly,pr)"
   ]
  },
  {
   "cell_type": "code",
   "execution_count": 198,
   "metadata": {},
   "outputs": [
    {
     "data": {
      "text/plain": [
       "0.035299803402438212"
      ]
     },
     "execution_count": 198,
     "metadata": {},
     "output_type": "execute_result"
    }
   ],
   "source": [
    "poly.score(x_train_pr, y_train)"
   ]
  },
  {
   "cell_type": "code",
   "execution_count": 199,
   "metadata": {},
   "outputs": [
    {
     "data": {
      "text/plain": [
       "0.029231395257170334"
      ]
     },
     "execution_count": 199,
     "metadata": {},
     "output_type": "execute_result"
    }
   ],
   "source": [
    "poly.score(x_test_pr, y_test)"
   ]
  },
  {
   "cell_type": "code",
   "execution_count": 200,
   "metadata": {},
   "outputs": [
    {
     "data": {
      "text/plain": [
       "Text(3,0.75,'Maximum R^2 ')"
      ]
     },
     "execution_count": 200,
     "metadata": {},
     "output_type": "execute_result"
    },
    {
     "data": {
      "image/png": "[encoded data removed]",
      "text/plain": [
       "<matplotlib.figure.Figure at 0x1a1e5d40f0>"
      ]
     },
     "metadata": {},
     "output_type": "display_data"
    }
   ],
   "source": [
    "Rsqu_test=[]\n",
    "\n",
    "order=[1,2,3,4]\n",
    "for n in order:\n",
    "    pr=PolynomialFeatures(degree=n)\n",
    "    \n",
    "    x_train_pr=pr.fit_transform(x_train[['Mean Temperature in degree C - Maximum']])\n",
    "    \n",
    "    x_test_pr=pr.fit_transform(x_test[['Mean Temperature in degree C - Maximum']])    \n",
    "    \n",
    "    lr.fit(x_train_pr,y_train)\n",
    "    \n",
    "    Rsqu_test.append(lr.score(x_test_pr,y_test))\n",
    "\n",
    "plt.plot(order,Rsqu_test)\n",
    "plt.xlabel('order')\n",
    "plt.ylabel('R^2')\n",
    "plt.title('R^2 Using Test Data')\n",
    "plt.text(3, 0.75, 'Maximum R^2 ')    "
   ]
  },
  {
   "cell_type": "code",
   "execution_count": 202,
   "metadata": {
    "collapsed": true
   },
   "outputs": [],
   "source": [
    "def f(order,test_data):\n",
    "    x_train, x_test, y_train, y_test = train_test_split(x_data, y_data, test_size=test_data, random_state=0)\n",
    "    pr=PolynomialFeatures(degree=order)\n",
    "    x_train_pr=pr.fit_transform(x_train[['Mean Temperature in degree C - Maximum']])\n",
    "    x_test_pr=pr.fit_transform(x_test[['Mean Temperature in degree C - Maximum']])\n",
    "    poly=LinearRegression()\n",
    "    poly.fit(x_train_pr,y_train)\n",
    "    PollyPlot(x_train[['Mean Temperature in degree C - Maximum']],x_test[['Mean Temperature in degree C - Maximum']],y_train,y_test,poly,pr)"
   ]
  },
  {
   "cell_type": "code",
   "execution_count": 204,
   "metadata": {},
   "outputs": [
    {
     "data": {
      "application/vnd.jupyter.widget-view+json": {
       "model_id": "90e6d99851e14834b85617f8cd4505e6",
       "version_major": 2,
       "version_minor": 0
      },
      "text/plain": [
       "A Jupyter Widget"
      ]
     },
     "metadata": {},
     "output_type": "display_data"
    },
    {
     "data": {
      "text/plain": [
       "<function __main__.f>"
      ]
     },
     "execution_count": 204,
     "metadata": {},
     "output_type": "execute_result"
    }
   ],
   "source": [
    "interact(f, order=(0,100,1),test_data=(0.05,0.95,0.05))"
   ]
  },
  {
   "cell_type": "code",
   "execution_count": 205,
   "metadata": {},
   "outputs": [
    {
     "name": "stdout",
     "output_type": "stream",
     "text": [
      "done\n"
     ]
    }
   ],
   "source": [
    "from sklearn.model_selection import GridSearchCV\n",
    "print(\"done\")"
   ]
  },
  {
   "cell_type": "code",
   "execution_count": 206,
   "metadata": {},
   "outputs": [
    {
     "data": {
      "text/plain": [
       "[{'alpha': [0.001, 0.1, 1, 10, 100, 1000, 10000, 100000, 100000]}]"
      ]
     },
     "execution_count": 206,
     "metadata": {},
     "output_type": "execute_result"
    }
   ],
   "source": [
    "parameters1= [{'alpha': [0.001,0.1,1, 10, 100, 1000,10000,100000,100000]}]\n",
    "parameters1"
   ]
  },
  {
   "cell_type": "code",
   "execution_count": 208,
   "metadata": {},
   "outputs": [
    {
     "data": {
      "text/plain": [
       "Ridge(alpha=1.0, copy_X=True, fit_intercept=True, max_iter=None,\n",
       "   normalize=False, random_state=None, solver='auto', tol=0.001)"
      ]
     },
     "execution_count": 208,
     "metadata": {},
     "output_type": "execute_result"
    }
   ],
   "source": [
    "from sklearn.linear_model import Ridge\n",
    "RR=Ridge()\n",
    "RR"
   ]
  },
  {
   "cell_type": "code",
   "execution_count": 209,
   "metadata": {
    "collapsed": true
   },
   "outputs": [],
   "source": [
    "Grid1 = GridSearchCV(RR, parameters1,cv=4)"
   ]
  },
  {
   "cell_type": "code",
   "execution_count": 210,
   "metadata": {},
   "outputs": [
    {
     "data": {
      "text/plain": [
       "Index(['No. of Years', 'Mean Temperature in degree C - Maximum',\n",
       "       'Mean Temperature  in degree C - Minimum', 'Mean Rainfall in mm'],\n",
       "      dtype='object')"
      ]
     },
     "execution_count": 210,
     "metadata": {},
     "output_type": "execute_result"
    }
   ],
   "source": [
    "df.columns"
   ]
  },
  {
   "cell_type": "code",
   "execution_count": 212,
   "metadata": {},
   "outputs": [
    {
     "data": {
      "text/plain": [
       "GridSearchCV(cv=4, error_score='raise',\n",
       "       estimator=Ridge(alpha=1.0, copy_X=True, fit_intercept=True, max_iter=None,\n",
       "   normalize=False, random_state=None, solver='auto', tol=0.001),\n",
       "       fit_params=None, iid=True, n_jobs=1,\n",
       "       param_grid=[{'alpha': [0.001, 0.1, 1, 10, 100, 1000, 10000, 100000, 100000]}],\n",
       "       pre_dispatch='2*n_jobs', refit=True, return_train_score='warn',\n",
       "       scoring=None, verbose=0)"
      ]
     },
     "execution_count": 212,
     "metadata": {},
     "output_type": "execute_result"
    }
   ],
   "source": [
    "Grid1.fit(x_data[['No. of Years', 'Mean Temperature in degree C - Maximum',\n",
    "       'Mean Temperature  in degree C - Minimum']],y_data)"
   ]
  },
  {
   "cell_type": "code",
   "execution_count": 213,
   "metadata": {},
   "outputs": [
    {
     "data": {
      "text/plain": [
       "Ridge(alpha=1000, copy_X=True, fit_intercept=True, max_iter=None,\n",
       "   normalize=False, random_state=None, solver='auto', tol=0.001)"
      ]
     },
     "execution_count": 213,
     "metadata": {},
     "output_type": "execute_result"
    }
   ],
   "source": [
    "BestRR=Grid1.best_estimator_\n",
    "BestRR"
   ]
  },
  {
   "cell_type": "code",
   "execution_count": 214,
   "metadata": {},
   "outputs": [
    {
     "data": {
      "text/plain": [
       "0.29933348293769324"
      ]
     },
     "execution_count": 214,
     "metadata": {},
     "output_type": "execute_result"
    }
   ],
   "source": [
    "BestRR.score(x_test[['No. of Years', 'Mean Temperature in degree C - Maximum',\n",
    "       'Mean Temperature  in degree C - Minimum']],y_test)"
   ]
  },
  {
   "cell_type": "code",
   "execution_count": null,
   "metadata": {
    "collapsed": true
   },
   "outputs": [],
   "source": []
  }
 ],
 "metadata": {
  "kernelspec": {
   "display_name": "Python 3",
   "language": "python",
   "name": "python3"
  },
  "language_info": {
   "codemirror_mode": {
    "name": "ipython",
    "version": 3
   },
   "file_extension": ".py",
   "mimetype": "text/x-python",
   "name": "python",
   "nbconvert_exporter": "python",
   "pygments_lexer": "ipython3",
   "version": "3.6.3"
  }
 },
 "nbformat": 4,
 "nbformat_minor": 2
}
